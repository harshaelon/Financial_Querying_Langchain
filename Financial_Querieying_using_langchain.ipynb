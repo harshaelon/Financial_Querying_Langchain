{
  "nbformat": 4,
  "nbformat_minor": 0,
  "metadata": {
    "colab": {
      "provenance": [],
      "include_colab_link": true
    },
    "kernelspec": {
      "name": "python3",
      "display_name": "Python 3"
    },
    "language_info": {
      "name": "python"
    }
  },
  "cells": [
    {
      "cell_type": "markdown",
      "metadata": {
        "id": "view-in-github",
        "colab_type": "text"
      },
      "source": [
        "<a href=\"https://colab.research.google.com/github/harshaelon/Financial_Querying_Langchain/blob/main/Financial_Querieying_using_langchain.ipynb\" target=\"_parent\"><img src=\"https://colab.research.google.com/assets/colab-badge.svg\" alt=\"Open In Colab\"/></a>"
      ]
    },
    {
      "cell_type": "markdown",
      "source": [
        "## PDF Query Using Langchain"
      ],
      "metadata": {
        "id": "gBtk_tC8zmC1"
      }
    },
    {
      "cell_type": "code",
      "source": [
        "!pip install langchain_community"
      ],
      "metadata": {
        "colab": {
          "base_uri": "https://localhost:8080/"
        },
        "id": "5IwotiClVtnw",
        "outputId": "f5015188-1e94-4f56-d27e-47f45f8d9679"
      },
      "execution_count": 5,
      "outputs": [
        {
          "output_type": "stream",
          "name": "stdout",
          "text": [
            "Collecting langchain_community\n",
            "  Downloading langchain_community-0.2.10-py3-none-any.whl.metadata (2.7 kB)\n",
            "Requirement already satisfied: PyYAML>=5.3 in /usr/local/lib/python3.10/dist-packages (from langchain_community) (6.0.1)\n",
            "Requirement already satisfied: SQLAlchemy<3,>=1.4 in /usr/local/lib/python3.10/dist-packages (from langchain_community) (2.0.31)\n",
            "Requirement already satisfied: aiohttp<4.0.0,>=3.8.3 in /usr/local/lib/python3.10/dist-packages (from langchain_community) (3.9.5)\n",
            "Collecting dataclasses-json<0.7,>=0.5.7 (from langchain_community)\n",
            "  Downloading dataclasses_json-0.6.7-py3-none-any.whl.metadata (25 kB)\n",
            "Requirement already satisfied: langchain<0.3.0,>=0.2.9 in /usr/local/lib/python3.10/dist-packages (from langchain_community) (0.2.11)\n",
            "Requirement already satisfied: langchain-core<0.3.0,>=0.2.23 in /usr/local/lib/python3.10/dist-packages (from langchain_community) (0.2.23)\n",
            "Requirement already satisfied: langsmith<0.2.0,>=0.1.0 in /usr/local/lib/python3.10/dist-packages (from langchain_community) (0.1.93)\n",
            "Requirement already satisfied: numpy<2,>=1 in /usr/local/lib/python3.10/dist-packages (from langchain_community) (1.25.2)\n",
            "Requirement already satisfied: requests<3,>=2 in /usr/local/lib/python3.10/dist-packages (from langchain_community) (2.31.0)\n",
            "Requirement already satisfied: tenacity!=8.4.0,<9.0.0,>=8.1.0 in /usr/local/lib/python3.10/dist-packages (from langchain_community) (8.5.0)\n",
            "Requirement already satisfied: aiosignal>=1.1.2 in /usr/local/lib/python3.10/dist-packages (from aiohttp<4.0.0,>=3.8.3->langchain_community) (1.3.1)\n",
            "Requirement already satisfied: attrs>=17.3.0 in /usr/local/lib/python3.10/dist-packages (from aiohttp<4.0.0,>=3.8.3->langchain_community) (23.2.0)\n",
            "Requirement already satisfied: frozenlist>=1.1.1 in /usr/local/lib/python3.10/dist-packages (from aiohttp<4.0.0,>=3.8.3->langchain_community) (1.4.1)\n",
            "Requirement already satisfied: multidict<7.0,>=4.5 in /usr/local/lib/python3.10/dist-packages (from aiohttp<4.0.0,>=3.8.3->langchain_community) (6.0.5)\n",
            "Requirement already satisfied: yarl<2.0,>=1.0 in /usr/local/lib/python3.10/dist-packages (from aiohttp<4.0.0,>=3.8.3->langchain_community) (1.9.4)\n",
            "Requirement already satisfied: async-timeout<5.0,>=4.0 in /usr/local/lib/python3.10/dist-packages (from aiohttp<4.0.0,>=3.8.3->langchain_community) (4.0.3)\n",
            "Collecting marshmallow<4.0.0,>=3.18.0 (from dataclasses-json<0.7,>=0.5.7->langchain_community)\n",
            "  Downloading marshmallow-3.21.3-py3-none-any.whl.metadata (7.1 kB)\n",
            "Collecting typing-inspect<1,>=0.4.0 (from dataclasses-json<0.7,>=0.5.7->langchain_community)\n",
            "  Downloading typing_inspect-0.9.0-py3-none-any.whl.metadata (1.5 kB)\n",
            "Requirement already satisfied: langchain-text-splitters<0.3.0,>=0.2.0 in /usr/local/lib/python3.10/dist-packages (from langchain<0.3.0,>=0.2.9->langchain_community) (0.2.2)\n",
            "Requirement already satisfied: pydantic<3,>=1 in /usr/local/lib/python3.10/dist-packages (from langchain<0.3.0,>=0.2.9->langchain_community) (2.8.2)\n",
            "Requirement already satisfied: jsonpatch<2.0,>=1.33 in /usr/local/lib/python3.10/dist-packages (from langchain-core<0.3.0,>=0.2.23->langchain_community) (1.33)\n",
            "Requirement already satisfied: packaging<25,>=23.2 in /usr/local/lib/python3.10/dist-packages (from langchain-core<0.3.0,>=0.2.23->langchain_community) (24.1)\n",
            "Requirement already satisfied: orjson<4.0.0,>=3.9.14 in /usr/local/lib/python3.10/dist-packages (from langsmith<0.2.0,>=0.1.0->langchain_community) (3.10.6)\n",
            "Requirement already satisfied: charset-normalizer<4,>=2 in /usr/local/lib/python3.10/dist-packages (from requests<3,>=2->langchain_community) (3.3.2)\n",
            "Requirement already satisfied: idna<4,>=2.5 in /usr/local/lib/python3.10/dist-packages (from requests<3,>=2->langchain_community) (3.7)\n",
            "Requirement already satisfied: urllib3<3,>=1.21.1 in /usr/local/lib/python3.10/dist-packages (from requests<3,>=2->langchain_community) (2.0.7)\n",
            "Requirement already satisfied: certifi>=2017.4.17 in /usr/local/lib/python3.10/dist-packages (from requests<3,>=2->langchain_community) (2024.7.4)\n",
            "Requirement already satisfied: typing-extensions>=4.6.0 in /usr/local/lib/python3.10/dist-packages (from SQLAlchemy<3,>=1.4->langchain_community) (4.12.2)\n",
            "Requirement already satisfied: greenlet!=0.4.17 in /usr/local/lib/python3.10/dist-packages (from SQLAlchemy<3,>=1.4->langchain_community) (3.0.3)\n",
            "Requirement already satisfied: jsonpointer>=1.9 in /usr/local/lib/python3.10/dist-packages (from jsonpatch<2.0,>=1.33->langchain-core<0.3.0,>=0.2.23->langchain_community) (3.0.0)\n",
            "Requirement already satisfied: annotated-types>=0.4.0 in /usr/local/lib/python3.10/dist-packages (from pydantic<3,>=1->langchain<0.3.0,>=0.2.9->langchain_community) (0.7.0)\n",
            "Requirement already satisfied: pydantic-core==2.20.1 in /usr/local/lib/python3.10/dist-packages (from pydantic<3,>=1->langchain<0.3.0,>=0.2.9->langchain_community) (2.20.1)\n",
            "Collecting mypy-extensions>=0.3.0 (from typing-inspect<1,>=0.4.0->dataclasses-json<0.7,>=0.5.7->langchain_community)\n",
            "  Downloading mypy_extensions-1.0.0-py3-none-any.whl.metadata (1.1 kB)\n",
            "Downloading langchain_community-0.2.10-py3-none-any.whl (2.3 MB)\n",
            "\u001b[2K   \u001b[90m━━━━━━━━━━━━━━━━━━━━━━━━━━━━━━━━━━━━━━━━\u001b[0m \u001b[32m2.3/2.3 MB\u001b[0m \u001b[31m25.0 MB/s\u001b[0m eta \u001b[36m0:00:00\u001b[0m\n",
            "\u001b[?25hDownloading dataclasses_json-0.6.7-py3-none-any.whl (28 kB)\n",
            "Downloading marshmallow-3.21.3-py3-none-any.whl (49 kB)\n",
            "\u001b[2K   \u001b[90m━━━━━━━━━━━━━━━━━━━━━━━━━━━━━━━━━━━━━━━━\u001b[0m \u001b[32m49.2/49.2 kB\u001b[0m \u001b[31m3.2 MB/s\u001b[0m eta \u001b[36m0:00:00\u001b[0m\n",
            "\u001b[?25hDownloading typing_inspect-0.9.0-py3-none-any.whl (8.8 kB)\n",
            "Downloading mypy_extensions-1.0.0-py3-none-any.whl (4.7 kB)\n",
            "Installing collected packages: mypy-extensions, marshmallow, typing-inspect, dataclasses-json, langchain_community\n",
            "Successfully installed dataclasses-json-0.6.7 langchain_community-0.2.10 marshmallow-3.21.3 mypy-extensions-1.0.0 typing-inspect-0.9.0\n"
          ]
        }
      ]
    },
    {
      "cell_type": "code",
      "execution_count": 3,
      "metadata": {
        "colab": {
          "base_uri": "https://localhost:8080/"
        },
        "id": "5rdAYZepFhJM",
        "outputId": "8ad8b71c-db41-42ac-d514-e07d26d6c0fe"
      },
      "outputs": [
        {
          "output_type": "stream",
          "name": "stdout",
          "text": [
            "Collecting langchain\n",
            "  Downloading langchain-0.2.11-py3-none-any.whl.metadata (7.1 kB)\n",
            "Requirement already satisfied: PyYAML>=5.3 in /usr/local/lib/python3.10/dist-packages (from langchain) (6.0.1)\n",
            "Requirement already satisfied: SQLAlchemy<3,>=1.4 in /usr/local/lib/python3.10/dist-packages (from langchain) (2.0.31)\n",
            "Requirement already satisfied: aiohttp<4.0.0,>=3.8.3 in /usr/local/lib/python3.10/dist-packages (from langchain) (3.9.5)\n",
            "Requirement already satisfied: async-timeout<5.0.0,>=4.0.0 in /usr/local/lib/python3.10/dist-packages (from langchain) (4.0.3)\n",
            "Collecting langchain-core<0.3.0,>=0.2.23 (from langchain)\n",
            "  Downloading langchain_core-0.2.23-py3-none-any.whl.metadata (6.2 kB)\n",
            "Collecting langchain-text-splitters<0.3.0,>=0.2.0 (from langchain)\n",
            "  Downloading langchain_text_splitters-0.2.2-py3-none-any.whl.metadata (2.1 kB)\n",
            "Collecting langsmith<0.2.0,>=0.1.17 (from langchain)\n",
            "  Downloading langsmith-0.1.93-py3-none-any.whl.metadata (13 kB)\n",
            "Requirement already satisfied: numpy<2,>=1 in /usr/local/lib/python3.10/dist-packages (from langchain) (1.25.2)\n",
            "Requirement already satisfied: pydantic<3,>=1 in /usr/local/lib/python3.10/dist-packages (from langchain) (2.8.2)\n",
            "Requirement already satisfied: requests<3,>=2 in /usr/local/lib/python3.10/dist-packages (from langchain) (2.31.0)\n",
            "Requirement already satisfied: tenacity!=8.4.0,<9.0.0,>=8.1.0 in /usr/local/lib/python3.10/dist-packages (from langchain) (8.5.0)\n",
            "Requirement already satisfied: aiosignal>=1.1.2 in /usr/local/lib/python3.10/dist-packages (from aiohttp<4.0.0,>=3.8.3->langchain) (1.3.1)\n",
            "Requirement already satisfied: attrs>=17.3.0 in /usr/local/lib/python3.10/dist-packages (from aiohttp<4.0.0,>=3.8.3->langchain) (23.2.0)\n",
            "Requirement already satisfied: frozenlist>=1.1.1 in /usr/local/lib/python3.10/dist-packages (from aiohttp<4.0.0,>=3.8.3->langchain) (1.4.1)\n",
            "Requirement already satisfied: multidict<7.0,>=4.5 in /usr/local/lib/python3.10/dist-packages (from aiohttp<4.0.0,>=3.8.3->langchain) (6.0.5)\n",
            "Requirement already satisfied: yarl<2.0,>=1.0 in /usr/local/lib/python3.10/dist-packages (from aiohttp<4.0.0,>=3.8.3->langchain) (1.9.4)\n",
            "Collecting jsonpatch<2.0,>=1.33 (from langchain-core<0.3.0,>=0.2.23->langchain)\n",
            "  Downloading jsonpatch-1.33-py2.py3-none-any.whl.metadata (3.0 kB)\n",
            "Requirement already satisfied: packaging<25,>=23.2 in /usr/local/lib/python3.10/dist-packages (from langchain-core<0.3.0,>=0.2.23->langchain) (24.1)\n",
            "Collecting orjson<4.0.0,>=3.9.14 (from langsmith<0.2.0,>=0.1.17->langchain)\n",
            "  Downloading orjson-3.10.6-cp310-cp310-manylinux_2_17_x86_64.manylinux2014_x86_64.whl.metadata (50 kB)\n",
            "\u001b[2K     \u001b[90m━━━━━━━━━━━━━━━━━━━━━━━━━━━━━━━━━━━━━━━━\u001b[0m \u001b[32m50.4/50.4 kB\u001b[0m \u001b[31m1.8 MB/s\u001b[0m eta \u001b[36m0:00:00\u001b[0m\n",
            "\u001b[?25hRequirement already satisfied: annotated-types>=0.4.0 in /usr/local/lib/python3.10/dist-packages (from pydantic<3,>=1->langchain) (0.7.0)\n",
            "Requirement already satisfied: pydantic-core==2.20.1 in /usr/local/lib/python3.10/dist-packages (from pydantic<3,>=1->langchain) (2.20.1)\n",
            "Requirement already satisfied: typing-extensions>=4.6.1 in /usr/local/lib/python3.10/dist-packages (from pydantic<3,>=1->langchain) (4.12.2)\n",
            "Requirement already satisfied: charset-normalizer<4,>=2 in /usr/local/lib/python3.10/dist-packages (from requests<3,>=2->langchain) (3.3.2)\n",
            "Requirement already satisfied: idna<4,>=2.5 in /usr/local/lib/python3.10/dist-packages (from requests<3,>=2->langchain) (3.7)\n",
            "Requirement already satisfied: urllib3<3,>=1.21.1 in /usr/local/lib/python3.10/dist-packages (from requests<3,>=2->langchain) (2.0.7)\n",
            "Requirement already satisfied: certifi>=2017.4.17 in /usr/local/lib/python3.10/dist-packages (from requests<3,>=2->langchain) (2024.7.4)\n",
            "Requirement already satisfied: greenlet!=0.4.17 in /usr/local/lib/python3.10/dist-packages (from SQLAlchemy<3,>=1.4->langchain) (3.0.3)\n",
            "Collecting jsonpointer>=1.9 (from jsonpatch<2.0,>=1.33->langchain-core<0.3.0,>=0.2.23->langchain)\n",
            "  Downloading jsonpointer-3.0.0-py2.py3-none-any.whl.metadata (2.3 kB)\n",
            "Downloading langchain-0.2.11-py3-none-any.whl (990 kB)\n",
            "\u001b[2K   \u001b[90m━━━━━━━━━━━━━━━━━━━━━━━━━━━━━━━━━━━━━━━━\u001b[0m \u001b[32m990.3/990.3 kB\u001b[0m \u001b[31m16.0 MB/s\u001b[0m eta \u001b[36m0:00:00\u001b[0m\n",
            "\u001b[?25hDownloading langchain_core-0.2.23-py3-none-any.whl (374 kB)\n",
            "\u001b[2K   \u001b[90m━━━━━━━━━━━━━━━━━━━━━━━━━━━━━━━━━━━━━━━━\u001b[0m \u001b[32m374.2/374.2 kB\u001b[0m \u001b[31m19.0 MB/s\u001b[0m eta \u001b[36m0:00:00\u001b[0m\n",
            "\u001b[?25hDownloading langchain_text_splitters-0.2.2-py3-none-any.whl (25 kB)\n",
            "Downloading langsmith-0.1.93-py3-none-any.whl (139 kB)\n",
            "\u001b[2K   \u001b[90m━━━━━━━━━━━━━━━━━━━━━━━━━━━━━━━━━━━━━━━━\u001b[0m \u001b[32m139.8/139.8 kB\u001b[0m \u001b[31m9.4 MB/s\u001b[0m eta \u001b[36m0:00:00\u001b[0m\n",
            "\u001b[?25hDownloading jsonpatch-1.33-py2.py3-none-any.whl (12 kB)\n",
            "Downloading orjson-3.10.6-cp310-cp310-manylinux_2_17_x86_64.manylinux2014_x86_64.whl (141 kB)\n",
            "\u001b[2K   \u001b[90m━━━━━━━━━━━━━━━━━━━━━━━━━━━━━━━━━━━━━━━━\u001b[0m \u001b[32m141.1/141.1 kB\u001b[0m \u001b[31m10.1 MB/s\u001b[0m eta \u001b[36m0:00:00\u001b[0m\n",
            "\u001b[?25hDownloading jsonpointer-3.0.0-py2.py3-none-any.whl (7.6 kB)\n",
            "Installing collected packages: orjson, jsonpointer, jsonpatch, langsmith, langchain-core, langchain-text-splitters, langchain\n",
            "Successfully installed jsonpatch-1.33 jsonpointer-3.0.0 langchain-0.2.11 langchain-core-0.2.23 langchain-text-splitters-0.2.2 langsmith-0.1.93 orjson-3.10.6\n",
            "Collecting openai\n",
            "  Downloading openai-1.37.0-py3-none-any.whl.metadata (22 kB)\n",
            "Requirement already satisfied: anyio<5,>=3.5.0 in /usr/local/lib/python3.10/dist-packages (from openai) (3.7.1)\n",
            "Requirement already satisfied: distro<2,>=1.7.0 in /usr/lib/python3/dist-packages (from openai) (1.7.0)\n",
            "Collecting httpx<1,>=0.23.0 (from openai)\n",
            "  Downloading httpx-0.27.0-py3-none-any.whl.metadata (7.2 kB)\n",
            "Requirement already satisfied: pydantic<3,>=1.9.0 in /usr/local/lib/python3.10/dist-packages (from openai) (2.8.2)\n",
            "Requirement already satisfied: sniffio in /usr/local/lib/python3.10/dist-packages (from openai) (1.3.1)\n",
            "Requirement already satisfied: tqdm>4 in /usr/local/lib/python3.10/dist-packages (from openai) (4.66.4)\n",
            "Requirement already satisfied: typing-extensions<5,>=4.7 in /usr/local/lib/python3.10/dist-packages (from openai) (4.12.2)\n",
            "Requirement already satisfied: idna>=2.8 in /usr/local/lib/python3.10/dist-packages (from anyio<5,>=3.5.0->openai) (3.7)\n",
            "Requirement already satisfied: exceptiongroup in /usr/local/lib/python3.10/dist-packages (from anyio<5,>=3.5.0->openai) (1.2.2)\n",
            "Requirement already satisfied: certifi in /usr/local/lib/python3.10/dist-packages (from httpx<1,>=0.23.0->openai) (2024.7.4)\n",
            "Collecting httpcore==1.* (from httpx<1,>=0.23.0->openai)\n",
            "  Downloading httpcore-1.0.5-py3-none-any.whl.metadata (20 kB)\n",
            "Collecting h11<0.15,>=0.13 (from httpcore==1.*->httpx<1,>=0.23.0->openai)\n",
            "  Downloading h11-0.14.0-py3-none-any.whl.metadata (8.2 kB)\n",
            "Requirement already satisfied: annotated-types>=0.4.0 in /usr/local/lib/python3.10/dist-packages (from pydantic<3,>=1.9.0->openai) (0.7.0)\n",
            "Requirement already satisfied: pydantic-core==2.20.1 in /usr/local/lib/python3.10/dist-packages (from pydantic<3,>=1.9.0->openai) (2.20.1)\n",
            "Downloading openai-1.37.0-py3-none-any.whl (337 kB)\n",
            "\u001b[2K   \u001b[90m━━━━━━━━━━━━━━━━━━━━━━━━━━━━━━━━━━━━━━━━\u001b[0m \u001b[32m337.0/337.0 kB\u001b[0m \u001b[31m7.0 MB/s\u001b[0m eta \u001b[36m0:00:00\u001b[0m\n",
            "\u001b[?25hDownloading httpx-0.27.0-py3-none-any.whl (75 kB)\n",
            "\u001b[2K   \u001b[90m━━━━━━━━━━━━━━━━━━━━━━━━━━━━━━━━━━━━━━━━\u001b[0m \u001b[32m75.6/75.6 kB\u001b[0m \u001b[31m5.0 MB/s\u001b[0m eta \u001b[36m0:00:00\u001b[0m\n",
            "\u001b[?25hDownloading httpcore-1.0.5-py3-none-any.whl (77 kB)\n",
            "\u001b[2K   \u001b[90m━━━━━━━━━━━━━━━━━━━━━━━━━━━━━━━━━━━━━━━━\u001b[0m \u001b[32m77.9/77.9 kB\u001b[0m \u001b[31m4.6 MB/s\u001b[0m eta \u001b[36m0:00:00\u001b[0m\n",
            "\u001b[?25hDownloading h11-0.14.0-py3-none-any.whl (58 kB)\n",
            "\u001b[2K   \u001b[90m━━━━━━━━━━━━━━━━━━━━━━━━━━━━━━━━━━━━━━━━\u001b[0m \u001b[32m58.3/58.3 kB\u001b[0m \u001b[31m3.6 MB/s\u001b[0m eta \u001b[36m0:00:00\u001b[0m\n",
            "\u001b[?25hInstalling collected packages: h11, httpcore, httpx, openai\n",
            "Successfully installed h11-0.14.0 httpcore-1.0.5 httpx-0.27.0 openai-1.37.0\n",
            "Collecting PyPDF2\n",
            "  Downloading pypdf2-3.0.1-py3-none-any.whl.metadata (6.8 kB)\n",
            "Downloading pypdf2-3.0.1-py3-none-any.whl (232 kB)\n",
            "\u001b[2K   \u001b[90m━━━━━━━━━━━━━━━━━━━━━━━━━━━━━━━━━━━━━━━━\u001b[0m \u001b[32m232.6/232.6 kB\u001b[0m \u001b[31m3.8 MB/s\u001b[0m eta \u001b[36m0:00:00\u001b[0m\n",
            "\u001b[?25hInstalling collected packages: PyPDF2\n",
            "Successfully installed PyPDF2-3.0.1\n",
            "Collecting faiss-cpu\n",
            "  Downloading faiss_cpu-1.8.0.post1-cp310-cp310-manylinux_2_17_x86_64.manylinux2014_x86_64.whl.metadata (3.7 kB)\n",
            "Requirement already satisfied: numpy<2.0,>=1.0 in /usr/local/lib/python3.10/dist-packages (from faiss-cpu) (1.25.2)\n",
            "Requirement already satisfied: packaging in /usr/local/lib/python3.10/dist-packages (from faiss-cpu) (24.1)\n",
            "Downloading faiss_cpu-1.8.0.post1-cp310-cp310-manylinux_2_17_x86_64.manylinux2014_x86_64.whl (27.0 MB)\n",
            "\u001b[2K   \u001b[90m━━━━━━━━━━━━━━━━━━━━━━━━━━━━━━━━━━━━━━━━\u001b[0m \u001b[32m27.0/27.0 MB\u001b[0m \u001b[31m40.1 MB/s\u001b[0m eta \u001b[36m0:00:00\u001b[0m\n",
            "\u001b[?25hInstalling collected packages: faiss-cpu\n",
            "Successfully installed faiss-cpu-1.8.0.post1\n",
            "Collecting tiktoken\n",
            "  Downloading tiktoken-0.7.0-cp310-cp310-manylinux_2_17_x86_64.manylinux2014_x86_64.whl.metadata (6.6 kB)\n",
            "Requirement already satisfied: regex>=2022.1.18 in /usr/local/lib/python3.10/dist-packages (from tiktoken) (2024.5.15)\n",
            "Requirement already satisfied: requests>=2.26.0 in /usr/local/lib/python3.10/dist-packages (from tiktoken) (2.31.0)\n",
            "Requirement already satisfied: charset-normalizer<4,>=2 in /usr/local/lib/python3.10/dist-packages (from requests>=2.26.0->tiktoken) (3.3.2)\n",
            "Requirement already satisfied: idna<4,>=2.5 in /usr/local/lib/python3.10/dist-packages (from requests>=2.26.0->tiktoken) (3.7)\n",
            "Requirement already satisfied: urllib3<3,>=1.21.1 in /usr/local/lib/python3.10/dist-packages (from requests>=2.26.0->tiktoken) (2.0.7)\n",
            "Requirement already satisfied: certifi>=2017.4.17 in /usr/local/lib/python3.10/dist-packages (from requests>=2.26.0->tiktoken) (2024.7.4)\n",
            "Downloading tiktoken-0.7.0-cp310-cp310-manylinux_2_17_x86_64.manylinux2014_x86_64.whl (1.1 MB)\n",
            "\u001b[2K   \u001b[90m━━━━━━━━━━━━━━━━━━━━━━━━━━━━━━━━━━━━━━━━\u001b[0m \u001b[32m1.1/1.1 MB\u001b[0m \u001b[31m11.8 MB/s\u001b[0m eta \u001b[36m0:00:00\u001b[0m\n",
            "\u001b[?25hInstalling collected packages: tiktoken\n",
            "Successfully installed tiktoken-0.7.0\n"
          ]
        }
      ],
      "source": [
        "!pip install langchain\n",
        "!pip install openai\n",
        "!pip install PyPDF2\n",
        "!pip install faiss-cpu\n",
        "!pip install tiktoken"
      ]
    },
    {
      "cell_type": "code",
      "source": [
        "from PyPDF2 import PdfReader\n",
        "from langchain.embeddings.openai import OpenAIEmbeddings\n",
        "from langchain.text_splitter import CharacterTextSplitter\n",
        "from langchain.vectorstores import FAISS"
      ],
      "metadata": {
        "id": "v8fCmC-6Q3pP"
      },
      "execution_count": 6,
      "outputs": []
    },
    {
      "cell_type": "markdown",
      "source": [],
      "metadata": {
        "id": "xP1-3VjZdlf4"
      }
    },
    {
      "cell_type": "code",
      "source": [
        "import os\n",
        "os.environ[\"OPENAI_API_KEY\"] = \"\"\n",
        "#os.environ[\"SERPAPI_API_KEY\"] = \"\""
      ],
      "metadata": {
        "id": "_aQ7ps_dRJOq"
      },
      "execution_count": 18,
      "outputs": []
    },
    {
      "cell_type": "code",
      "source": [
        "# provide the path of  pdf file/files.\n",
        "pdfreader = PdfReader('/content/financialguide.pdf')"
      ],
      "metadata": {
        "id": "_FA1ZERdRLAM"
      },
      "execution_count": 8,
      "outputs": []
    },
    {
      "cell_type": "code",
      "source": [
        "from typing_extensions import Concatenate\n",
        "# read text from pdf\n",
        "raw_text = ''\n",
        "for i, page in enumerate(pdfreader.pages):\n",
        "    content = page.extract_text()\n",
        "    if content:\n",
        "        raw_text += content"
      ],
      "metadata": {
        "id": "q9AeO9cDRqMj"
      },
      "execution_count": 9,
      "outputs": []
    },
    {
      "cell_type": "code",
      "source": [
        "raw_text"
      ],
      "metadata": {
        "colab": {
          "base_uri": "https://localhost:8080/",
          "height": 139
        },
        "id": "yGlxUMl-Rsmy",
        "outputId": "5310fcae-ae3a-4377-f9da-c81ec253cca3"
      },
      "execution_count": 10,
      "outputs": [
        {
          "output_type": "execute_result",
          "data": {
            "text/plain": [
              "\"Copyright Plain English Campaign.\\nThe A to Z of financial terms\\nThis guide is not intended to be the final word. If you have any suggestions, corrections or\\nimprovements, please do contact us. You can contact us at:\\nPO Box 3\\nNew Mills\\nHigh Peak\\nSK22 4QP\\n01663 744409 (phone)\\n01663 747038 (fax)\\ninfo@plainenglish.co.uk\\nwww.plainenglish.co.uk\\nCopyright\\nPlain English Campaign owns the copyright on this guide. You may save one copy of the guide to\\ndisk, and print one copy out for your personal use. You may not make more than one copy without\\nour permission.\\nIntroduction\\nPlain English Campaign brings light to technical language which is dark and troubling for many\\npeople. This excellent guide will help ordinary people understand financial, tax and legal\\ndocuments. It will also help and encourage those who write such documents to use language which\\nthe intended audience can understand. The guide shows that there is no need for technical\\nlanguage to baffle and befuddle.\\nWe all have much to learn from this guide. And we all have much to thank Plain English Campaign\\nfor. Over the years the Campaign has made a valuable difference to the way government and\\nbusiness communicate with people. It has helped people to understand their rights and duties. This\\nguide is a further important milestone.\\nMark H Ashworth\\nHead of Group Pensions\\nNat West GroupPlain English Campaign: The A to Z of financial terms\\n1We have written this A to Z guide to help you to understand some of the terms you will come\\nacross when you buy a house, go into business, take out insurance, invest your money and do all\\nthe other things you might have to do in your lifetime. It should help you to unravel the language\\nyou may not come across very often in your day−to−day life.\\nAbsolute owner\\nThis is the sole owner of a piece of property, such as a building, vehicle or piece of equipment.\\nAbstract of title\\nThis is a document which summarises all the  title deeds to a property such as a house. It is drawn\\nup for the seller when a property is being sold.\\nAccounting date\\nOrganisations prepare their  annual accounts covering a period of 12 months. The last day of the\\nperiod is called the accounting date.\\nAccrual rate\\nThis is the rate by which a pension from an  earnings−related occupational pension scheme\\nbuilds up from one year to another. The rate is shown as a fraction or a percentage of the\\nmember's final yearly salary.\\nAccrue\\nIf something is accruing, it is building up day by day. If an organisation owes money for goods and\\nservices but has not received a bill up to the date it prepares its accounts, it will estimate what it\\nowes. It will then include the debt in its accounts. This estimated  liability is called an accrual.\\nAccrued income security\\nThis is a security (investment) which pays interest at regular intervals. When it is sold, interest may\\nhave built up and this interest will be paid to the new owner. Interest built up like this is called\\naccrued interest.\\nAccumulation date\\nThis is the date when income will be  credited to a  unit trust which reinvests its income (an\\naccumulation unit), instead of paying the income out to the investors.\\nAccumulation unit\\nThe type of  unit trust which reinvests the income it earns, instead of paying it out immediately to\\nthe investors, is called an accumulation unit.\\nActuaryPlain English Campaign: The A to Z of financial terms\\n2An actuary is an expert on pension scheme  assets and  liabilities, life expectancy and\\nprobabilities for insurance purposes (the likelihood of things happening). An actuary works out\\nwhether enough money is being paid into a pension scheme to pay the pensions when they are\\ndue.\\nAd valorem\\nIf a duty is ad valorem the duty varies with the price of the  asset which is being transferred.\\nAdditional voluntary contribution\\nPeople in occupational pension schemes can pay in extra money to increase their  pension\\nbenefits. The extra money they pay in is an additional voluntary contribution.\\nAdemption\\nThis happens when someone is left something in a  will, but the item no longer exists so cannot be\\nbequeathed.\\nAdministration order\\nIf a court appoints someone to look after a company's affairs the court issues an administration\\norder. This order gives the person appointed power to run the company.\\nAdministrator\\nThis is someone who:\\nhas been appointed to manage the affairs of a  bankrupt business; or • \\nhas been appointed to manage the estate of someone who has died without leaving a  will. • \\nAdvance corporation tax\\nUntil 1999 this tax was paid by companies on the  dividends they paid. The advance corporation\\ntax paid could usually be offset against the  corporation tax due on the company's profits.\\nAER\\nThis stands for annual equivalent rate. It is quoted by financial institutions, such as banks, to show\\nhow much the interest rate would be if the interest was worked out just once a year. It is intended to\\nmake it easier for people to judge how much interest they pay (or receive) when it is being worked\\nout more than once a year. It is also intended to make it easier to compare different financial\\nproducts.\\nAffidavit\\nAn affidavit is a written statement which is sworn to be true by the person signing it. It is sworn\\nbefore someone authorised by the court.\\nAllocation ratePlain English Campaign: The A to Z of financial terms\\n3When money is paid into a fund (such as a pension fund) the allocation rate is the percentage of\\nthe money left which can be invested after the charges have been taken off. For example, if the\\ncharges were 2% the allocation rate would be 98%.\\nAllotment\\nAn allotment of shares in a company gives the owner (of the allotment) an unconditional right to\\nbuy the shares at a fixed price.\\nAlternate director\\nIf a director appoints someone to take his or her place, the substitute is called an alternate\\ndirector.\\nAnnual accounts\\nThese are the summary of an organisation's financial transactions during the year covered by their\\naccounts, and a 'snapshot' of the  assets and  liabilities at the end of the year.\\nAnnual general meeting (AGM)\\nThis is the yearly meeting of the members of an organisation which must be held to meet legal\\nconditions. The annual accounts are presented for approval at this meeting.\\nAnnual management charge\\nThis is a yearly charge made by the managers of  unit trusts or  investment trusts. It is usually a\\npercentage of the value of the funds being managed.\\nAnnual payment\\nAn annual payment is an amount paid out every year, such as an annuity. It may be split up into\\nsmaller amounts and be paid out more frequently than once a year.\\nAnnuity\\nAn annuity is an amount paid out every year to someone. The money usually comes from an\\ninsurance policy. It can be split up into smaller amounts and paid out more frequently, such as\\nmonthly. It is usually paid for the rest of the  beneficiary's life.\\nAPR\\nThis stands for annual percentage rate. It is intended to give people a more accurate idea of how\\nmuch they are being charged when they borrow money.\\nArbitrage\\nThis is borrowing money to lend out again at a higher rate of interest.\\nArrangement feePlain English Campaign: The A to Z of financial terms\\n4This is the fee that banks charge their customers for arranging an  overdraft facility.\\nArticles\\nA company's articles set out its rules. The articles form part of the  memorandum and articles of\\nassociation.\\nAssets\\nThese are things which are owned such as buildings, vehicles, stock and money in the bank.\\nAssignment\\nThis is the formal transfer of rights to something. For instance, a bank's customer may assign, to\\nthe bank, the right to receive the benefits from a  life insurance policy to give the bank  security for\\na loan.\\nAttorney\\nAn attorney is a person appointed to act for another person (such as when someone is unable to\\nlook after their own affairs). A formal document called a  power of attorney is used to appoint the\\nattorney.\\nAudit\\nAn audit is an independent examination of an organisation's records and  financial statements\\n(report and accounts) to make sure that:\\nthe financial statements show a fair reflection of the financial position at the  accounting\\ndate;• \\nthe income and spending is shown accurately;• \\nthe financial statements meet any legal conditions; and• \\nthe financial statements are drawn up clearly.• \\nAuditing standards\\nThe organisations which regulate auditors, such as The Institute of Chartered Accountants in\\nEngland and Wales, set standards which have to be followed during an audit. These are called\\nauditing standards.\\nAuditor's report\\nThis is a report and opinion, by an independent person or firm, on an organisation's financial\\nrecords.\\nAuthorised share capital\\nThis is the highest amount of  share capital that a company can issue. The amount is set out in the\\ncompany's  memorandum of association.Plain English Campaign: The A to Z of financial terms\\n5BACS payment\\nBACS stands for Bankers Automated Clearing System which is a system for sending money\\nelectronically between banks. A BACS payment happens when money is sent electronically from\\none bank account to another.\\nBail\\nIf someone is given bail, they are let out of prison until their court case. Usually someone has to\\npay, or promise to pay, an amount of money as a condition of bail being granted. If the accused\\nperson does not appear at the trial, the court can keep the money put up for bail.\\nBailee\\nA bailee is the person or organisation which looks after valuable items to keep them safe for the\\nowner.\\nBailiff\\nA bailiff is an officer of the court. The bailiff carries out the court's orders, such as taking goods\\nbelonging to a  debtor and selling them to get money to pay the debts. The bailiff can also\\npersonally deliver (serve) court documents on people.\\nBailment\\nThis involves transferring possession of goods from the owner to someone else. The ownership of\\nthe goods is not transferred.\\nBailor\\nA bailor is the owner of valuable items which are in the possession of another person or\\norganisation for safekeeping.\\nBalance sheet\\nA balance sheet is a summary of an organisation's financial position. It lists the values, in the\\nbooks of account on a particular date, of all the organisation's  assets and  liabilities. The assets\\nand liabilities are grouped in categories, to paint a picture of the organisation's strengths and\\nweaknesses.\\nBalloon payment\\nSome loan and finance agreements have lower repayments than normal in return for a high final\\npayment. This is called a balloon payment.\\nBankruptcy\\nIf someone cannot pay their debts when they are due to be paid, a court may issue a bankruptcy\\norder against them. This order takes ownership of the  debtor's property away from the debtor and\\nallows much of the property to be sold. The money raised is divided between the  creditorsPlain English Campaign: The A to Z of financial terms\\n6following strict rules.\\nBare trustee\\nA bare trustee holds property ‘on  trust' for another person until asked to return the property.\\nBarter\\nThis is a way of paying for things, without using money, by exchanging goods.\\nBasic−rate tax\\nOnce you have used up all your  tax allowances and all your lower−rate tax band, you pay\\nbasic−rate tax. The basic rate is 22% at the moment (2000).\\nBasic state pension\\nThis is the retirement pension the Government pays to people who have paid enough  national\\ninsurance contributions. Some people may receive a reduced basic state pension because\\nthey have not paid enough contributions.\\nBear\\nA bear is someone who expects share prices to fall in the future and sells shares now so that they\\ncan buy them back later at a lower price.\\nBearer\\nThe bearer of a document is the person who has it in their possession.\\nBeneficial interest\\nIf something really belongs to a person, even though they do not legally own it, they have a\\nbeneficial interest in it. If, for instance, parents hold an investment on behalf of their child, they are\\nthe legal owners but the child is the beneficial owner of the investment.\\nBeneficiary\\nThis is someone who benefits from a  will, a trust or a  life insurance policy.\\nBenefit statement\\nIf employees are in an  occupational pension scheme, they receive regular benefit statements\\nwhich explain how much  pension benefit they have earned.\\nBenefits in kind\\nIf an employee or a director gets benefits (perks) from their work, such as a company car, the\\nbenefits are called benefits in kind. They may have to pay tax on the value of the benefit in kind.Plain English Campaign: The A to Z of financial terms\\n7Bequeath\\nIf you bequeath something, you leave it to someone in your  will. You cannot bequeath land or\\nreal property but you can  devise them.\\nBequest\\nA bequest is something given in a  will, other than land or  real property.\\nBid/offer spread\\nThis is the difference between the bid price and the  offer price.\\nBid price\\nIf you are a member of a  unit trust, this is the price you will get for each unit if you cash them in.\\nBill of exchange\\nA bill of exchange is a signed written order, instructing the person it is addressed to to pay an\\namount of money to someone. A  cheque is a type of bill of exchange.\\nBill of lading\\nThis is a document recording the goods a ship carries and the  terms the goods are carried under.\\nBill of sale\\nA bill of sale is a document which transfers ownership of goods from one person to another.\\nBona vacantia\\nThis means belonging to nobody.\\nBond\\nA bond is a written promise to repay a debt at an agreed time and to pay an agreed rate of interest\\non that debt.\\nBonus issue\\nIf a company offers free shares to its shareholders in proportion to their existing shareholdings, it is\\ncalled a bonus issue (or a  scrip issue). The company accounts for it in its books by transferring\\nthe face value of the shares from the  reserves to  issued share capital.\\nBook debts\\nBook debts are the debts owed to a business, as recorded in the business's accounting records.\\nBook valuePlain English Campaign: The A to Z of financial terms\\n8This is the value of a  fixed asset, such as a building or machine, as recorded in an organisation's\\nbooks. It is usually the amount paid for the  asset less an amount for  depreciation.\\nBooks of account\\nThese are the books which a business must keep to record its financial transactions accurately.\\nBought note\\nStockbrokers produce bought notes for their clients. The bought note shows details of the\\ninvestments the broker has bought for the client, including the price paid and any commission and\\nduty charged.\\nBreach of duty\\nA breach of duty is failing to carry out something which is needed by law (or doing something the\\nlaw forbids).\\nBreach of trust\\nA breach of trust happens if a trustee does something which is against the  trust's rules or fails to\\ndo something needed by the  trust's rules.\\nBrokerage\\nBrokerage is the commission earned by brokers.\\nBudget\\nEach year, the  Chancellor of the Exchequer presents to the UK parliament estimates of the\\nGovernment's income and spending for the following year. The budget also sets out the financial\\npolicies the Government will follow.\\nBull\\nA bull is someone who buys shares now because they expect the price to rise in the future. After\\nthe price has risen they may sell the shares at a profit.\\nBuying charge\\nThis is the charge made when you first invest in a fund such as an  ISA, OEIC or unit trust.\\nCall\\nA company makes a call when it asks buyers of its new shares to pay some or all of the share\\nprice. When this happens the shares are being called up.\\nCalled−up share capitalPlain English Campaign: The A to Z of financial terms\\n9When a company issues shares it asks the buyers to pay for part or all of the share price. The\\nname for this request is a call and all the shares called are the company's called−up share\\ncapital. When calls have been made for the whole of the share price and the shareholders have\\npaid, the shares become  paid−up share capital.\\nCancelled from inception (CFI)\\nThis phrase refers to a contract for an investment product (such as a personal pension) which has\\nbeen cancelled within the 'cooling−off' period.\\nCapital adequacy requirement\\nBanks and some other financial organisations have to have a certain amount of capital to make\\nsure that there is enough money to support their business. It is called the capital adequacy\\nrequirement.\\nCapital allowances\\nYou can sometimes claim capital allowances when you buy long−term  assets, such as machines,\\nto use in your business. You claim part of the cost each year against your profits, before your tax is\\nworked out.\\nCapital charge\\nIf a unit trust manager takes the management charges out of the fund's capital instead of the\\nincome it has generated, it is called a capital charge.\\nCapital commitment\\nIf, before the end of its financial year, an organisation has agreed to spend money after the end of\\nits accounting period on buying  fixed assets, it is called a capital commitment. This is shown in\\nthe financial statements.\\nCapital expenditure\\nIf you spend money buying or improving  fixed assets, it is called capital expenditure.\\nCapital gain\\nYou make a capital gain if you sell or  dispose of a long−term  asset (such as a building) for more\\nthan it cost you.\\nCapital gains tax\\nThis is a tax charged on certain capital gains.\\nCapital receipt\\nThis is money received from selling  fixed assets, such as buildings or machines.Plain English Campaign: The A to Z of financial terms\\n10Capital redemption policy\\nA capital redemption policy is a  life insurance policy which is linked to an investment such as a\\nunit trust.\\nCapital Transfer Tax (CTT)\\nThis was introduced in the 1970s to tax money and  assets given away by people during their\\nlifetime, as well as on the estates of people who died. Its name was later changed to  inheritance\\ntax.\\nCard\\nThis is the plastic  credit card or cash card which banks give their customers to use.\\nCardholder\\nThis is a bank customer who has been given a  credit card or cash card.\\nCash card\\nA cash card can be used to draw money from automated teller machines (cash machines).\\nCash ISA\\nYou can invest money in a cash ISA to earn tax−free interest.\\nCash option (or commutation)\\nIf you are in a pension scheme and take this option, you will receive a lump sum straightaway.\\nHowever, you will then get a lower pension than if you had not had the lump sum.\\nCAT standard\\nThe Government has created a system to show which  ISAs meet stated standards for charges,\\naccess and terms. The ISAs which meet these will have reached the CAT standard.\\nCaveat\\nA caveat is a warning.\\nCaveat emptor\\nThis is a Latin expression which means 'buyer beware'. It is used to warn people buying goods that\\nthey may not be able to get compensation if the goods they buy are faulty.\\nChancellor of the Exchequer\\nThe Chancellor of the Exchequer is a Government minister responsible for raising money for the\\nGovernment, mainly through taxes, and for controlling money spent by the Government.Plain English Campaign: The A to Z of financial terms\\n11CHAPS\\nThis stands for Clearing House Automated Payments System. It is a computer system which allows\\npayments to be made electronically. The payment goes from the paying bank to the receiving bank\\non the same day.\\nCharge card\\nA charge card is a type of  credit card. It is often issued by a store to its customers so that the\\ncustomers can buy goods from the store on  credit.\\nCharge certificate\\nThe Land Registry issues this certificate to the legal mortgagee (the lender) who has lent money on\\nthe security of registered land. It is proof of the legal mortgagee's right to the security.\\nChargeable asset\\nThis is an  asset on which  capital gains tax may have to be paid, if it is sold or  disposed of.\\nChargeable event\\nIf a chargeable event  happens, it may create a tax (tax bill).\\nCharging clause\\nIf this clause is written into a  trust, trustees can charge the trust for their services.\\nCharity\\nA charity is an organisation set up to help needy causes.\\nCheque\\nA cheque is a written order, addressed to a bank, instructing the bank to pay an amount of money\\nto the person or organisation named on the cheque. The bank also has to take the amount from the\\nrelevant account.\\nCheque card\\nThis type of card is issued by a bank to a customer. It guarantees that a cheque used with the\\ncard will be paid if the person issuing the cheque has kept to all the conditions.\\nChief rent\\nA chief rent  is money charged regularly on land, but it is not rent.\\nClose company\\nA close company is one controlled by five people or fewer or by its directors.Plain English Campaign: The A to Z of financial terms\\n12Collateral\\nIf there is a main  security for a debt, such as a house securing a  mortgage , any extra security\\nsupplied is called collateral.\\nCollector of taxes\\nAfter the inspector of taxes  has worked out how much tax is owed, the collector of taxes sends\\ntax demands for the money and collects it from the taxpayer.\\nCommercial paper\\nLarge organisations which are regarded as soundly based financially can borrow money for the\\nshort term without giving any  security. The document which confirms the debt is known as\\ncommercial paper.\\nCompany pension scheme\\nThis is a pension scheme organised by the employer to provide  pension benefits  for the\\nemployees.\\nCompensation\\nCompensation is money given to make up for damage caused.\\nCompletion\\nWhen there is a  contract  to sell land, the completion happens when the land is  conveyed  to the\\nperson buying it in return for the receiving the rest of the purchase price.\\nCompound interest\\nCompound interest is interest on the money lent, plus interest on any interest already added to\\nthe loan.\\nCondition\\nA condition is an essential part of an agreement. The agreement or  contract  may collapse if a\\ncondition is broken.\\nConsumer Credit Act 1974\\nThis act sets out the rules which lenders must follow when they lend amounts of £15,000 or less to\\nconsumers.\\nContingent annuity\\nThis is an annuity which is paid to someone when someone else dies.\\nContingent liabilityPlain English Campaign: The A to Z of financial terms\\n13This is money which might be owed if a particular event happens.\\nContract\\nA contract is an agreement between two or more people (or groups) to do (or not to do)\\nsomething. The agreement can be enforced by law.\\nContract in\\nMembers of  occupational pension schemes  can contract in to the  state earnings related\\npension scheme (SERPS)  by paying full national insurance contributions. When they retire they\\nwill be able to draw their occupational pension as well as their state earnings related pension.\\nContract out\\nIf someone contracts out of the  state earnings related pension scheme (SERPS) , they pay less\\nnational insurance . Instead they pay into a private pension scheme which has to meet certain\\nconditions.\\nConversion\\nThis is changing the type of bank account you have.\\nConveyance\\nThis is the name of the document which transfers the ownership of land.\\nConveyancing\\nThis is the name for carrying out all the actions needed to transfer the ownership of a piece of land.\\nCorporate body\\nThis is a group of people acting together. The group has a separate legal identity to the individual\\nmembers' identities. A company is an example of a corporate body.\\nCorporation tax\\nThis is a tax companies pay on their profits.\\nCouncil Tax\\nThis is a tax charged locally on private houses. It provides some of the money to run local councils.\\nCoupon\\nA coupon is a dated piece of paper attached to a  bond. The coupon has to be surrendered (given\\nback) to get the interest or  dividend  on the bond.\\nCovenantPlain English Campaign: The A to Z of financial terms\\n14A covenant  is a contract.\\nCredit\\nA credit is:\\nmoney received;• \\nincome from selling goods or services; or• \\nan entry on the right−hand side in a double−entry bookkeeping system.• \\nCredit agreement\\nThis is a written  contract  between a bank or other lender and a customer. The bank allows the\\ncustomer to borrow money under the  terms and conditions  in the agreement.\\nCredit card\\nA credit card is an identity card issued by a lender, such as a bank, to a customer. The card\\nallows the customer to buy on credit.\\nCredit limit\\nThis is the most a customer is allowed to borrow on their account.\\nCredit reference agency\\nThis is an organisation which keeps records of people's  credit agreements  and how well they\\nkeep to them. Banks and other organisations use these agencies to check on people before\\nlending them money.\\nCredit scoring\\nThis is a way of working out the risk of not being repaid if money is lent. Points are awarded for the\\nanswers given by the potential borrower to a series of questions. A high score means that the risk\\nof them not being able to repay is low.\\nCredit transfer\\nA credit transfer involves transferring money from one bank to another.\\nCreditor\\nThis is someone who is owed money.\\nCritical illness cover\\nThis is a type of insurance cover which pays out if the policyholder gets a serious illness such as\\nheart disease or cancer.\\nCum−dividendPlain English Campaign: The A to Z of financial terms\\n15If a share is sold cum−dividend, the buyer will receive the  dividend  declared just before they\\nbought the share.\\nCumulative market capitalisation\\nThis is the total  market capitalisation  of all the companies in the sector under review.\\nCurrent assets\\nThese are short−term  assets which are constantly changing in value, such as stocks,  debtors and\\nbank balances.\\nCurrent liabilities\\nThese are short−term  liabilities  which are due to be paid in less than one year, such as bank\\noverdrafts, money owed to suppliers and employees'  PAYE.\\nDamages\\nDamages is the name for money awarded by a court as  compensation .\\nData Protection Act 1984\\nThis act sets out the rules which an organisation has to follow when they store personal information\\nabout people.\\nDe facto\\nDe facto means in fact or in reality.\\nDebenture\\nThis is a document issued by a company which acknowledges that some or all of the company's\\nassets are security for a debt (usually to a bank). It is also a name for certain long−term loans to\\ncompanies.\\nDebit\\nA debit is:\\na payment (such as out of a bank account);♦ \\nthe cost of buying goods or services; or♦ \\nan entry on the left−hand side in a double−entry bookkeeping system.♦ \\nDebit card\\nA debit card is an identity card issued by a bank to a customer which the customer can use to buy\\ngoods. The price of the goods is charged to the customer's bank account.\\nDebt securitiesPlain English Campaign: The A to Z of financial terms\\n16These are debts which can be bought and sold, such as  debentures .\\nDebtor\\nThis is someone who owes money.\\nDefault\\nIf someone defaults, they fail to do something which they had agreed to do.\\nDeferred taxation\\nThis is tax which is expected to be paid at some time in the future but is not due in the short term.\\nPayment has usually been postponed because of tax relief.\\nDefined contribution pension scheme\\nIn this type of pension scheme the amount of the pension which will be paid out depends on how\\nmuch has been invested and how well the fund has performed.\\nDependant\\nA dependant is someone who depends on someone else for financial support.\\nDeposit account\\nThis is a bank account in which money is saved. It normally pays interest on the money invested.\\nDeposit rate\\nThis is the rate of interest customers earn on money they keep in a bank deposit account.\\nDepreciation\\nDepreciation is the drop in value of an  asset due to wear and tear, age and obsolescence (going\\nout of date) as recorded in an organisation's financial records.\\nDepreciation provision\\nThis is money set aside (or provided) in a set of accounts to reflect the drop in value of  fixed\\nassets caused by wear and tear, age and obsolescence (going out of date).\\nDetermination\\nEnding an agreement is called determination.\\nDevise\\nDevise means to leave land in a  will.Plain English Campaign: The A to Z of financial terms\\n17Direct debit\\nThis is a payment out of a bank account which is arranged by the organisation which receives the\\nmoney.\\nDirectors' report\\nEvery year, company directors have to prepare a report for the company's members, to explain\\nwhat the company has been doing and their plans for the future.\\nDiscretionary trust\\nIn this type of  trust the trustees can decide who will benefit from the trust and how much they will\\nget.\\nDisposal\\nThis happens when something is sold, transferred or given away.\\nDistribution\\nIf a company pays money (or other  assets) to its shareholders, it is making a distribution. When a\\ncompany pays a dividend it is making a distribution.\\nDividend\\nIf a company has profits to share out, it can pay a dividend. The shareholders get so much\\ndividend for each share they own.\\nDividend warrant\\nWhen companies pay a dividend they send each shareholder a dividend warrant which gives\\ninformation about the dividend such as the class of share, the amount of the dividend and the  tax\\ncredit.\\nDomicile\\nYour domicile is the country where your permanent home is, even if you are living somewhere else\\nfor now.\\nDomiciled\\nThis means permanently based in a country.\\nDrawee\\nIn the case of a  cheque, this is the bank that will pay the  cheque. (In other words, the bank which\\nwill pay the amount written on the  cheque.)\\nDrawerPlain English Campaign: The A to Z of financial terms\\n18This is the person or organisation which has drawn a  cheque.\\nDuty\\nDuty is a levy charged by the Government, usually when things are bought, such as shares or\\nbuildings.\\nEarnings−related\\nIf something, such as a pension contribution, goes up in line with increases in earnings, it is\\ndescribed as earnings−related.\\nEasement\\nAn easement is a right to use someone else's land, such as a right of way.\\nEffects not cleared (uncleared effects)\\nWhen cheques  have been paid into a bank account, but the money for them has not yet been\\nreceived from the banks they are drawn on, they are called  uncleared effects .\\nEmoluments\\nThese are your earnings and they include  benefits in kind  (such as company cars).\\nEmployer's liability\\nEmployers have to take out  insurance  cover, called employer's liability insurance, to cover\\nclaims by employees against the employer for damage caused to them while they are at work.\\nEndorsement\\nAn endorsement is a change to a  contract , such as an  insurance  policy, so that the original\\ntermss are changed.\\nEndowment policy\\nIf you have this type of  insurance  policy, it will pay out a lump sum on a fixed date in the future, or\\nwhen you die, if this happens earlier.\\nEnduring power of attorney\\nIf a person is capable of dealing with their own affairs at present, they can sign an enduring power\\nof attorney. It will only come into effect when they are no longer capable of looking after their own\\naffairs. It gives authority to the person appointed to act for the person who signed the  power of\\nattorney.\\nEquitable mortgage\\nWhen a person takes out this type of  mortgage  they still own the property which is  security for thePlain English Campaign: The A to Z of financial terms\\n19mortgage. They can occupy or live in the property.\\nEquity\\nEquity is the value of something (such as a house) less money owing on it.\\nEurocheques\\nThese are  cheques  issued by banks in Europe which are used with a eurocheque card.\\nExcess\\nThis is the amount by which someone has gone over their agreed  overdraft facility . It is also the\\nfirst amount of any claim an  insurance  policyholder has agreed to pay.\\nExchange control\\nThe Bank of England controls the flow of currencies in and out of the UK. It buys and sells our\\ncurrency in to try and keep the  exchange rate  with other currencies within certain limits.\\nExchange equalisation account\\nThis is an account kept by the Bank of England. It holds the United Kingdom's  foreign exchange\\nand gold reserves.\\nExchange of contract\\nWhen land is sold, the person selling (seller) and the buyer both sign identical copies of the\\ncontract and exchange them. The contract is then binding on both of them.\\nExchange rate\\nThe exchange rate is the value of one currency compared to another. For example, one pound\\nsterling might buy 300 Portuguese escudos.\\nExclusion\\nIf an insurance  policy does not provide cover for certain things, it will list them and call them\\nexclusions.\\nEx−dividend\\nIf a share is sold ex−dividend the seller will receive the  dividend  declared just before it was sold.\\nExecute\\nThis means to carry out a  contract.\\nExecutedPlain English Campaign: The A to Z of financial terms\\n20If a document is made valid (in the eyes of the law), such as by being signed or sealed, it is\\nexecuted.\\nExecutor\\nThis is a man appointed in a will to deal with the estate, according to the wishes set out in that  will.\\nExecutrix\\nThis is a female appointed in a will to deal with the estate, according to the wishes set out in the\\nwill.\\nExempt\\nIf something is exempt from tax, no tax can be charged on it unless the law is changed.  Zero−rate\\nis not the same as exempt. The tax on something zero−rated is 0% at the moment. However, the\\nGovernment could change it to another rate, such as 2% or 7%, without having to change the law.\\nFacility\\nThis is the agreed amount that a bank will allow a customer to borrow up to.\\nFinal dividend\\nOnce a company has drawn up its  annual accounts  the directors can work out and declare, or\\nrecommend to the shareholders, the amount of the final dividend.\\nFinance lease\\nUnder this type of lease the organisation leasing the goods is treated as if it owns the goods. It\\ngains the profits that would come with ownership but it also suffers the losses.\\nFinancial statement\\nThis is a statement which includes the  annual accounts , directors' report  and so on.\\nFinancial year\\nThis is the year covered by a set of annual financial statements.\\nFiscal\\nThis word is used to describe finances controlled by the Government.\\nFixed asset\\nA fixed asset is one which is intended to be used for several years. Examples are buildings,\\nmachinery and vehicles.Plain English Campaign: The A to Z of financial terms\\n21Fixed interest rate\\nThis is an interest rate which does not change during the life of a loan.\\nFloating charge\\nA floating charge is used to provide  security for money lent to a company. The charge is over the\\ncompany's liquid  assets(such as stocks and  debtors) but it is only triggered by an event such as\\nliquidation.\\nFloating exchange rates\\nThese are  exchange rates  between currencies which are allowed to go up and down in line with\\nsupply and demand. The countries concerned do not attempt to maintain a particular exchange\\nrate.\\nForbearance\\nThis is when one party to an agreement does not pursue their rights even though another party to\\nthe agreement has not kept to the agreement's terms.\\nForce majeure\\nThis is an event which cannot be controlled and which stops duties, under an agreement, being\\ncarried out.\\nForeign exchange\\nThis is the term for foreign currencies which are bought and sold. The markets for buying and\\nselling the foreign currencies are called foreign exchange markets.\\nFranked investment income\\nThis is a company's investment income which has  tax credits  relating to it.\\nFree−standing AVC\\nThis stands for free−standingadditional voluntary contribution. If someone is in an employer's\\nscheme, which is not contracted out of  SERPS, they can contract out themselves and pay into a\\nfree−standing additional voluntary contribution scheme (FSAVC).\\nFully paid share\\nA share becomes fully paid when the company issuing it has received all the money due for the\\nshare.\\nFund management charge\\nThe managers of funds (such as  investment trusts  and unit trusts ) make charges which are a\\npercentage of the value of the investments they are managing.Plain English Campaign: The A to Z of financial terms\\n22Gift\\nA gift is a transfer of goods or property which is free of charge.\\nGilt−edged securities\\nThese are first−class  securities  such as government stocks or local authority stocks.\\nGross domestic product\\nThis is the value of goods and services produced by an economy over a particular time period.\\nGross interest\\nThis is interest which has not had any  income tax  taken out of it.\\nGross profit\\nGross profit is the difference between the selling price of goods and what they cost to buy.\\nGround rent\\nA ground rent is a rent created by a long−term lease of land.\\nGuarantee\\nA guarantee is sometimes needed before a bank will lend money to a customer. Another person\\n(the guarantor) pledges to the bank, in writing, that if the customer does not repay the debt then the\\nguarantor will.\\nGuaranteed minimum pension\\nThis is the lowest level of pension which must be paid to a pensioner, as a condition of  contracting\\nout of SERPS.\\nHeadline rate\\nThis term refers to information which is easy to publish but which may be over−simplified and, as a\\nresult, possibly inaccurate.\\nHire purchase\\nThis is a form of  credit which allows the purchaser to have possession of the goods shown in the\\nhire purchase agreement. Ownership passes to the purchaser when they have paid all the\\ninstalments and any fee.\\nHolding companyPlain English Campaign: The A to Z of financial terms\\n23This is a company which controls another company, usually by owning more than half of its shares.\\nHypothecation\\nThis happens when a person gives a bank authority to sell goods which have been pledged as\\nsecurity for a loan.\\nIncapacity benefit\\nIncapacity benefit is paid to people who are too ill to work.\\nIncome and expenditure account\\nThis account records an organisation's income and spending and shows the surplus or shortfall.\\nIncome drawdown\\nUnder this system, people with  personal pensions  can take money from their personal pension\\nfund instead of using the fund to buy an  annuity.\\nIncome tax\\nYou pay this tax according to how much income you have under various categories.\\nIncome unit\\nThis is a unit trust which pays out the income it earns to the investors, instead of reinvesting it.\\nIncorporated\\nIf a company is formed which has its own identity separate from the identities of its members, it is\\nincorporated.\\nIncorporation\\nThis means forming a company. Some companies have  limited liability . In other words, the\\nmembers of the company are not personally liable for debts which the company runs up, as long as\\nthe company is run properly.\\nIndemnity\\nIf someone promises to compensate someone else for loss or damage, it is called an indemnity.\\nIndependent financial adviser (IFA)\\nThis is a qualified person or firm that can give people independent advice on life insurance and\\npensions and is not tied to a particular company.\\nIndexationPlain English Campaign: The A to Z of financial terms\\n24This means making adjustments to allow for the effects of  inflation.\\nIndividual Savings Account (ISA)\\nThis is a savings account which was introduced 6 April 1999. The income earned by the money\\ninvested will be free of tax. In each  tax year you can invest in:\\nup to three different types of  mini ISAs ; or ♦ \\none maxi ISA . ♦ \\nInflation\\nThis is the name for general price increases.\\nInheritance tax\\nThis tax is charged on certain gifts, and on the value of the estate left by someone who has died.\\nInput tax\\nThis is the  value added tax  you pay when you buy goods and services.\\nInsolvent\\nIf debts cannot be paid when they are due for payment, the person or organisation owing the\\nmoney is insolvent.\\nInspector of taxes\\nThis is a person who works for the Inland Revenue, dealing with  tax returns  and tax assessments.\\nTax inspectors check how much tax the taxpayers owe.\\nInsurance\\nWhen policyholders pay premiums to buy insurance cover, the company receiving the premium\\nagrees to pay for the policyholder's loss if a certain event happens.\\nIntangible assets\\nIntangible assets cannot be touched. Examples are goodwill and patent rights.\\nIntellectual property rights\\nThis is the general name for rights such as copyrights and patents.\\nInterest rate swaps\\nIf you are earning variable interest on money you have deposited at your bank, but you are worried\\nthat interest rates will drop in the future, you can change your investment to earn a fixed rate of\\ninterest. This will protect you from falling interest rates and it is called an interest−rate swap.Plain English Campaign: The A to Z of financial terms\\n25Interim dividend\\nThe directors of a company can review the company's performance part way through the financial\\nyear and declare a  dividend . This is called an interim dividend.\\nIntestacy\\nThis happens when someone dies without leaving a  will. Their estate is divided up between their\\nrelatives following the rules set by law.\\nInvestment grade issuers\\nThese are soundly based companies of the highest quality.\\nInvestment trust\\nThis is a company which is quoted on the stock exchange and which invests in other companies.\\nISA\\nThis is an individual savings account. The interest earned from an ISA is free of tax.\\nIssued share capital\\nThis is share capital which has been allocated to shareholders who have subscribed for (asked for)\\nshares.\\nJoint lives\\nSome life insurance  policies cover two people's lives and pay out on the first death.\\nJoint lives last survivor\\nThis sort of  life insurance  is on two people's lives and pays out on the second death.\\nLAPR\\nThis stands for  life assurance premium relief. Before 14 March 1984 there was tax relief on  life\\ninsurance  premiums paid by policyholders for policies which qualified for tax relief. Policies which\\nstarted before 14 March 1984 still qualified for tax relief on the premiums paid since 14 March\\n1984.\\nLapse\\nIf a policy becomes void because conditions have not been kept to (such as failing to pay\\npremiums), it has lapsed.\\nLegacyPlain English Campaign: The A to Z of financial terms\\n26A legacy is a gift left to someone in a  will, but it does not include land.\\nLegal mortgage\\nWhen a person takes out this type of  mortgage  the lender owns the property which is mortgaged,\\nuntil the mortgage has been repaid.\\nLetter of credit\\nThis is a letter one bank sends to a second bank asking them to pay money to a named person.\\nHowever, certain conditions must be met.\\nLiabilities\\nThese are debts that a person or an organisation owes.\\nLicensed conveyancers\\nThese are the only people, other than solicitors, who are allowed to do  conveyancing  and charge\\na fee for it.\\nLien\\nA lien is the right to keep possession of something, owned by someone who owes a debt, until the\\ndebt has been settled.\\nLife assurance (or insurance) policy\\nThis type of policy is a  contract  between the policyholder and the  insurance  company. The\\ninsurance company will normally pay out if the policyholder dies.\\nLife assured\\nThis is the person whose life is assured.\\nLife of another\\nIf you take out assurance cover on another person's life, you have taken it out on the life of\\nanother.\\nLimited company\\nThis type of company limits how much its  members  will have to pay if the company is wound up.\\nThe members of most limited companies will only have to pay any money unpaid on their shares.\\nIf a company limited by guarantee is wound up, the money its members have to pay is limited to\\nthe amount shown in the  memorandum .\\nLimited liability\\nIf a company is set up with limited liability for its  members , a limit is put on how much thePlain English Campaign: The A to Z of financial terms\\n27members would have to pay if the company was wound up.\\nLiquidation\\nThis is the process of winding up a company by paying its  creditors  and distributing any money\\nleft among the  members .\\nLower earnings limit\\nIf you earn below this limit, you do not pay  national insurance contributions .\\nMandate\\nA bank's customer writes instructions on the mandate for the bank to follow when operating the\\ncustomer's account.\\nMarket capitalisation\\nIf you multiply the number of ordinary shares a company has issued by their market price, you get\\nthe market capitalisation value of the company.\\nMature/maturity\\nIf an investment policy comes to the end of its life, it has reached maturity.\\nMaxi ISA\\nA maxi ISA includes investments in stocks and shares and may also allow investments in cash and\\nlife assurance . An individual can invest up to £7000 in 2000/2001 in a maxi ISA and up to £5000\\nin the following years.\\nMedian\\nIn statistics the median is the point where half the items in a series are on one side and half on the\\nother side. For example, a series of numbers might be 1, 3, 5, 7, 11. Five is at the median point.\\nMedian is not the same as average.\\nMember\\nThe shareholders of a company are its members.\\nMemorandum and articles of association\\nThe memorandum gives details of a company's name, objects (purposes) and share capital. It\\nalso sets out the limits of the shareholders' liability if the company has to be wound up.\\nThe articles set out the members' rights and the directors' powers.\\nMerchant bankPlain English Campaign: The A to Z of financial terms\\n28This is a specialist bank which deals in  foreign exchange  and advises large companies on\\nmergers, takeovers, raising capital and so on.\\nMiddle−band earnings\\nThese are earnings between lower−band earnings and upper−band earnings.\\nMini ISA\\nThere are three types of mini ISA you can invest in, these being cash,  life assurance  and stocks\\nand shares. The income earned will be free of tax.\\nMinority interest\\nIf more than 50% of the shares in a company are held by a  holding company,  the remaining\\nshares are the minority interest.\\nMIRAS\\nThis stands for mortgage interest tax relief at source. It was income tax relief on mortgage interest\\npaid (up to the limit allowed), and the mortgage repayments were reduced to allow for it.\\nMortgage\\nA mortgage is using a property as  security for a debt.\\nNational insurance contributions\\nMost employees, employers and the self−employed pay national insurance contributions. The\\nNational Insurance Fund pays out benefits such as Jobseeker's Allowance, retirement pensions\\nand Widow's Benefit.\\nNegotiable instrument\\nThis is a document which :\\nis signed;♦ \\nis an instruction to pay an amount of money;♦ \\ncan have its ownership changed by changing the name it is paid to; or♦ \\ncan have its ownership changed simply by being delivered to its new owner.♦ \\nNet book value\\nThis is what an  asset cost, as recorded in the books of account, less all the  depreciation  taken off\\nthe asset for age and wear.\\nNet interest\\nThis is interest which has had  income tax  taken off it.Plain English Campaign: The A to Z of financial terms\\n29Net profit\\nThis is the profit left after all overheads have been taken off.\\nNet relevant earnings\\nThese are the earnings of self−employed people or earnings of people who are not in an\\nemployer's pension scheme. Net relevant earnings are used to work out the highest amount\\nwhich can be invested in a pension scheme and qualify for tax relief.\\nNominal damages\\nWhen token damages are awarded because little damage has been done, they are called nominal\\ndamages.\\nNon−profit\\nA non−profit organisation is one which is not intended to make a profit, such as a credit union.\\nNote\\nA note is a document acknowledging that a debt exists and promising to repay that debt.\\nOccupational pension scheme\\nThis is a pension scheme organised by an employer to provide  pension benefits  for employees.\\nOffer price\\nThis is how much people have to pay for each unit when investing in  unit trusts.\\nOfficial receiver\\nThis is a person appointed to act as a  receiver in bankruptcies  and company  winding−up  cases.\\nThe Department of Trade and Industry appoints official receivers.\\nOpen ended investment companies (OEICs)\\nAn OEIC is a type of  unit trust  but there is no difference between the  bid price  and the offer\\nprice. In other words the buying price and the selling price is always the same.\\nOperating lease\\nUnder this type of lease, ownership of the leased goods stays with the lessor (the company leasing\\nout the goods).\\nOperating profit (or loss)\\nThe profit (or loss) from a company's principal (main) trading activity.Plain English Campaign: The A to Z of financial terms\\n30Opting out\\nIf an employee leaves an  occupational pension scheme , or chooses not to join one, it is called\\nopting out.\\nOption\\nUnder this sort of  contract , paying an amount of money gives a right to buy or sell goods at a fixed\\nprice by a particular future date.\\nOrders not to pay\\nIf a bank's customer asks the bank not to pay a  cheque, the bank may write 'orders not to pay' on\\nthe cheque before it is sent back.\\nOrdinary resolution\\nIf a resolution can be passed at a meeting by more than half of those voting agreeing to the\\nresolution, it is an ordinary resolution.\\nOut of date\\nIf a cheque is dated more than six months before the date when it is presented for payment, the\\nbank may refuse to pay it.\\nOutput tax\\nThis is the  value added tax (VAT)  charged by a business registered for VAT, on the goods and\\nservices it sells.\\nOverdraft facility\\nIf a bank agrees to let a customer borrow from the bank by taking out more than the customer has\\nin the bank, an overdraft is created. The bank puts a limit on how much the customer can borrow\\nand this is called the overdraft facility.\\nPaid−up share capital\\nThis is the money paid on shares  allotted to the members .\\nPAYE\\nAn employer collects  income tax  and national insurance  are collected from employees' pay and\\npays it to the Inland Revenue. This system is called Pay As You Earn (PAYE).\\nPayee\\nThis is the person money is being paid to.Plain English Campaign: The A to Z of financial terms\\n31Payment countermanded\\nIf a bank's customer asks the bank not to pay a  cheque, the bank may write 'payment\\ncountermanded' on the cheque before it is sent back.\\nPayment protection insurance\\nThis insurance covers people's finance agreement repayments if they cannot work because of\\nlong−term illness or redundancy.\\nPension benefits\\nThe pensions and lump sums people receive from their private pensions are called pension\\nbenefits.\\nPension mortgage\\nThis is a mortgage  which will be repaid out of the lump sum from a pension policy or  retirement\\nannuity.\\nPensionable age\\nThis is the age people have to reach to be entitled to draw their  state pension .\\nPEP\\nThis stood for personal equity plan. It was a way of investing in stocks and shares through a\\nGovernment scheme.\\nPermanent assurance\\nThis is life assurance  cover on someone for the rest of their life.\\nPermanent health insurance\\nThis is a type of  insurance  policy which pays an income if the policyholder suffers from a\\nlong−term illness or disability.\\nPersonal allowance\\nPeople do not have to pay  income tax  on all their income. Everyone gets a  tax allowance  which\\nallows them to have some income they do not have to pay tax on. However, the amount varies\\ndepending on personal circumstances.\\nPersonal guarantee\\nThis is a pledge by a person to a bank to repay a debt if the bank's customer fails to pay it.\\nPersonal pensionPlain English Campaign: The A to Z of financial terms\\n32Self−employed people or people who are not in an  occupational pension scheme  can take out\\nthese pensions.\\nPersonal representative\\nIf someone dies, a personal representative is appointed to deal with the dead person's estate. If\\nthere is a will, the executors  appointed will be the personal representatives. If there is no will,\\nthe courts will appoint someone.\\nPIN\\nThis stands for personal identification number. It is a secret number given to an account holder to\\nbe used when they put their  credit card  or cash card  into an automatic teller machine (ATM). If\\nthe number they use is correct, they will be allowed access to their account.\\nPlease represent\\nIf a bank has refused to pay a  cheque because there was not enough money available in the\\ncustomer's bank account, it may mark the cheque 'please represent'. It will do this if there is likely\\nto be enough money to pay the cheque in a few days time.\\nPledge\\nIf someone pledges goods, they let a second person take possession of the goods, but the person\\npledging the goods still owns them. It is often done as  security for money owed or to make sure\\nthat something is done as promised.\\nPoll\\nWhen a company has a poll vote, each shareholder has one vote for each share they own.\\nPost−dated\\nIf a cheque is written with a date in the future, it is 'post−dated'.\\nPost−dated (no represent)\\nIf a cheque is returned  unpaid with this written on it, the bank will not honour it if it is represented.\\nPower of attorney\\nA power of attorney is a document which gives power to the person appointed by it to act for the\\nperson who signed the document.\\nPremium\\nThis is the money the policyholder pays to the  insurance  company in return for the cover set out in\\nthe insurance policy.\\nPrepayment (prepaid)Plain English Campaign: The A to Z of financial terms\\n33In a set of accounts this means something which has been paid out which covers a period after the\\nend of the accounting period. You may have paid an  insurance  premium for the year to 30\\nSeptember. If your accounting year ends on 30 June, 3 months of your premium will be prepaid.\\nPresent\\nWhen a bank sends a  cheque it has received to the bank which has to pay it, it is 'presented' for\\npayment.\\nPrincipal activity\\nThis is a company's main trading activity.\\nPrivate limited company\\nA private limited company cannot sell its shares to the public and is not listed on the stock\\nexchange.\\nPro rata\\nThis means in proportion to. For example, if ten items cost £100, you would expect three items to\\ncost £30, if they were pro rata.\\nProbate\\nWhen someone dies, the  executors  of the dead person's estate apply to the court for authority to\\ndeal with the estate. This authority is called probate.\\nProfit and loss account\\nA profit and loss account shows the money a business has earned from selling goods and\\nservices, less the money spent on goods, services and overheads.\\nPromissory note\\nThis is a written promise to pay an amount of money to someone at a given time or on demand.\\nProspectus\\nIf a public company  wants to people to invest in it, it prepares a prospectus giving details of its\\npast performance and its plans for the future.\\nProvision\\nWhen accounts are being prepared and an amount needs to be set aside for  liabilities  which are\\nknown to exist, but which cannot be measured accurately, the amount set aside is called a\\nprovision.\\nProxyPlain English Campaign: The A to Z of financial terms\\n34This is a person appointed by a shareholder to go to a meeting of shareholders. The proxy can\\nvote at the meeting for the shareholder.\\nProxy form\\nIf a proxy form is delivered to the company at least 48 hours before the shareholders' meeting, the\\nperson who is the proxy will be able to vote at that meeting.\\nPublic liability\\nThis is a type of  insurance  cover to protect people and businesses from claims made by members\\nof the public.\\nPublic limited company (plc)\\nA public limited company can offer its shares to the public and is often listed on the stock\\nexchange.\\nPurchased life annuity\\nA person can buy this type of  annuity from an insurance  company by paying a lump sum.\\nPut option\\nThis is a right to sell foreign currency at a particular  exchange rate .\\nQualifying policy\\nThis is a policy which can pay its proceeds, free of tax, if the conditions have been met.\\nQuartile\\nIn statistics the quartile point is the spot where one quarter of the items in a series is on one side\\nand three quarters are on the other side. For example, if a series of numbers was 1, 3, #, 4, 5, 7,\\n10, 20 and 30, the quartile point (#) would be between 3 and 4.\\nQuorum\\nA quorum is the lowest number of qualifying people needed for a meeting to be valid.\\nRate of risk\\nIf an investment carries more risk it is expected to deliver better returns than a lower−risk\\ninvestment.\\nReal property\\nThis is land and rights over land (such as an  easement ).Plain English Campaign: The A to Z of financial terms\\n35Receivership\\nIf a company  defaults in repaying a  secured debt, the debtor may appoint a receiver to sell the\\nassets secured until enough money has been raised to repay the debt. The company is in\\nreceivership while the receiver is appointed.\\nRedemption\\nRedemption means paying off all the money borrowed under an agreement.\\nRefer to drawer\\nA bank writes 'refer to drawer' on a  cheque which it will not pay. The bank sends it back (returns\\nit) to the branch of the bank with the account the cheque was paid into.\\nRefer to drawer−please represent\\nIf this is written on a  cheque which is returned, the bank sending the cheque back expects that\\nthere may be enough money available in the bank account to pay the cheque when it is presented\\nagain.\\nRelated party\\nThis is someone, or an organisation, which controls or significantly influences another organisation.\\nRemedy\\nThis is using the law to get compensation for damage done or for rights infringed. A remedy is also\\nusing the law to prevent something from happening.\\nRent\\nRent is the term used to describe a payment for using land, buildings or equipment.\\nRentcharge\\nThis is the name for a charge to use land such as a  chief rent  but it does not include tenancies and\\nleases.\\nRepresentations\\nThese are facts borrowers give to lenders about themselves when they apply to borrow money.\\nReserves\\nThese are amounts set aside in one year's accounts, which can be spent in later years. Some\\ntypes of reserve can only be spent if certain conditions are met.\\nRetained profits (or losses)Plain English Campaign: The A to Z of financial terms\\n36Retained profits are those profits earned by a business which have not yet been spent.\\nRetirement annuity\\nRetirement annuities are still in existence though none have been started since June 1988. They\\nwere taken out by self−employed people or employed people who were not in an employer's\\npension scheme.\\nReversion\\nIf the owner of a piece of freehold property leases it to someone else for a period, the freehold\\nproperty is in reversion during the period of the lease. In other words, reversion is the owner's\\nright to retake possession when the lease ends.\\nRights issue\\nThis is an issue of extra shares by a company. Existing shareholders can buy extra new shares in\\nproportion to the shares they already hold. The shares are usually on sale at a price lower than the\\nstock−market price to encourage shareholders to buy. The shareholders can sell the rights if they\\ndo not wish to use them.\\nSchedule A\\nSchedule A rules were used to work out  income tax  on certain rents and other income from land.\\nSchedule D\\nSelf−employed people's  income tax  is worked out using the tax rules in Schedule D.\\nSchedule E\\nEmployees' and directors'  income tax  is worked out using the rules in Schedule E.\\nScrip dividend\\nSometimes companies will offer to pay  dividends  in shares instead of cash if shareholders want\\nthis.\\nScrip issue\\nIf a company offers free shares to its shareholders in proportion to their existing shareholdings, it is\\ncalled a scrip issue (or a  bonus issue ).\\nSecurity\\nThis is something of value which is pledged to a bank by a borrower. If the borrower fails to repay\\nthe debt, the bank can sell the security and repay the debt out of the proceeds of the sale.\\nSecuritiesPlain English Campaign: The A to Z of financial terms\\n37This term is used for stocks, shares,  debentures  and so on where there is a right to receive\\ninterest or  dividends  from the investment.\\nSelf−assessment\\nThis is a system for taxpayers to work out the tax they have to pay. However, if they send their tax\\nreturns to the Inland Revenue in good time, the Inland Revenue will do the calculations.\\nShare capital\\nShare capital is the money invested directly in a company by its  members  (shareholders).\\nShare certificate\\nThis document certifies who owns shares in a company. It gives the type and number of shares\\nowned by the shareholder and lists the serial numbers of the shares.\\nShare premium account\\nIf shares are issued for more than their face value, the extra amount over face value is called a\\nshare premium. The total of all the share premiums is credited to a share premium account in the\\ncompany's books.\\nShow of hands\\nIf voting is on this basis, each person who can vote has one vote only.\\nSickness Benefit\\nSickness Benefit has now been replaced by  Incapacity Benefit .\\nSine die\\nIf a meeting is adjourned sine die, no date has been set for it to be continued.\\nSold note\\nStockbrokers produce sold notes for their clients. The sold note shows details of the investments\\nsold for the client, including the sale price and any charges taken.\\nSole trader\\nA sole trader is someone who is in business on their own. They have no business partners and\\nthey do not trade through a company.\\nSort code\\nEach bank branch is given an identification number which is called a sort code. The sort code is\\nused on cheques  and other bank documents to identify the bank branch.Plain English Campaign: The A to Z of financial terms\\n38Spot rate\\nThis is the  exchange rate  for foreign−exchange  transactions which are being done straightaway.\\nStakeholder pension\\nThe Government has announced plans for the stakeholder pension which is a type of personal\\npension. There will be a rebate which will reduce the employee's national insurance contributions\\nand the rebate will be invested in the stakeholder pension.\\nStamp duty\\nStamp duty is a tax on the transfer documents for certain types of transaction. Examples are the\\nbuying of shares, patent rights and properties.\\nStandard & Poors\\nThis organisation rates companies according to their financial strength.\\nStanding order\\nThis is an instruction by a bank's customer to the bank, to pay an amount of money regularly to\\nanother bank account.\\nState earnings related pension scheme (SERPS)\\nPeople working for an employer can earn this extra state pension. They pay extra  national\\ninsurance  as their earnings rise above a lower limit and some of this extra national insurance is\\nfor the increased pension.\\nState pension scheme\\nThe Government pays a basic state pension to everyone who has paid the minimum  national\\ninsurance contributions .\\nStatistical sampling\\nThis involves the randomly choosing of items to be tested, and then using probabilities (the\\nlikelihood of things happening) to decide the acceptable rate of error for the test to be treated as\\nsuccessful.\\nStatutory accounts\\nStatutory accounts are company accounts which have been filed with the Registrar of\\nCompanies.\\nStatutory audit\\nBy law, certain companies have to have their accounts audited by suitably qualified accountants.\\nThis is called a statutory audit.Plain English Campaign: The A to Z of financial terms\\n39Statutory books\\nBy law, companies must keep books of account to show and explain all their transactions. These\\nare called statutory books.\\nStatutory Sick Pay\\nEmployers have to pay this to employees who are off work because of sickness. The Government\\nsets Statutory Sick Pay rates.\\nStockbroker\\nA stockbroker buys and sells stocks and shares for clients.\\nStock control\\nStock control is a system for keeping adequate control of stock levels and for preventing stock\\nlosses.\\nStock exchange\\nA stock exchange is a market for stocks and shares. Organisations can raise capital by selling\\nsecurities  through a stock exchange.\\nStock in trade\\nThis is the term for goods bought but which have not yet been sold.\\nSub judice\\nIf something is sub judice, it is being dealt with by the court and cannot be discussed outside the\\ncourt.\\nSubscribers\\nSubscribers are the people who set up a limited company.\\nSubsidiary\\nA subsidiary is a company controlled by another company. The control is normally a result of\\nhaving more than 50% of the voting rights.\\nSuperannuation\\nThis is a regular contribution to a pension scheme by an employee.\\nSurcharge\\nThis is an extra charge banks make if a customer does not keep to their agreement with the bank.Plain English Campaign: The A to Z of financial terms\\n40It is also a penalty charged if tax is not paid on time.\\nSurety\\nA surety is someone who takes responsibility for someone else's debts or promises, and\\nguarantees that they will be paid or undertaken.\\nSurrender value\\nIf a policyholder cancels a life policy early, the  insurance  company will pay the policyholder an\\namount of money called the surrender value.\\nSWIFT payment\\nSWIFT stands for Society for Worldwide Interbank Financial Telecommunications and it is an\\ninternational system for paying by  credit transfer . A SWIFT payment is a payment from one bank\\naccount to another using the SWIFT system.\\nTangible assets\\nIf an asset can be physically touched, it is a tangible asset.\\nTax allowance\\nTaxpayers are given tax allowances to reduce the amount of tax they have to pay. The allowances\\nare taken off their income before the tax is worked out.\\nTax avoidance\\nReducing tax bills by using legal means is called tax avoidance.\\nTax code\\nThe Inland Revenue work out the allowances for each taxpayer paying  PAYE. The total allowances\\nare converted into a code number which is used with tax tables to work out how much tax should\\nbe taken from the income.\\nTax credit\\nWhen companies pay  dividends  they send each shareholder a  dividend warrant . The warrant\\nshows the amount of the dividend and also a figure for a tax credit. For  basic−rate tax  payers the\\ntax credit covers the  income tax  due on the dividend.\\nTax evasion\\nBreaking the law to reduce tax bills (such as by concealing income) is called tax evasion.\\nTax monthPlain English Campaign: The A to Z of financial terms\\n41The tax year is split up into 12 monthly periods. The first tax month starts on 6 April and finishes\\non 5 May and the other 11 months start on the 6th and finish on the 5th of the following month.\\nTax point\\nThe tax point is the date when  value added tax  arises on goods or services supplied (or made\\navailable) to a customer. The tax point should be displayed on invoices.\\nTax return\\nThe Inland Revenue sends these forms out to taxpayers each year. Income and gains for the year\\nare declared on the form and certain allowances are claimed. There are fines and penalties\\ncharged by the Inland Revenue if the returns are sent in late, incomplete or incorrect.\\nTax voucher\\nThis is the same as a  dividend warrant.\\nTax week\\nThe tax year is split up into 52 tax weeks. The first tax week starts on 6 April and finishes on 12\\nApril and the other 51 weeks follow in order.\\nTax year\\nThe tax year starts on 6 April and finishes on 5 April in the following year.\\nTaxable supply\\nThis is a term for supplying of goods and services on which  value added tax  can be charged. This\\napplies even if the tax rate is 0% at present, because it can be increased if the Government\\nchooses to.\\nTeeming and lading\\nThis is a term used to describe attempts to hide the loss of cash received from one customer by\\nusing cash from another customer or customers to replace it. It also involves using other\\ncustomers' money in the same way, and so on.\\nTender\\nIf an organisation asks firms to send in tenders to supply something, they are asking for firm written\\noffers to do the work to an agreed standard and at a stated price.\\nTerm\\nA term is any of the clauses which form part of a contract.\\nTerm assurance (or temporary assurance)Plain English Campaign: The A to Z of financial terms\\n42This is life insurance  cover for a fixed period of time.\\nTerm deposit\\nThis is money deposited with a bank for a fixed period of time.\\nTerm loan\\nBanks offer these loans to companies for a fixed time period.\\nTerminal bonus\\nA terminal bonus is one the  insurance  company can decide to pay when a policy  matures or\\nwhen the policyholder dies. It is paid out of the profits on the  insurance  company's investments.\\nTESSA\\nThis stands for Tax Exempt Special Savings Account. It is a special savings account with banks,\\nbuilding societies and so on and the interest is free of tax if you keep to any rules about\\nwithdrawals.\\nTitle deeds\\nThese are the documents which prove who owns a property and under what terms.\\nTracker fund\\nTracker funds invest in the same shares and in the same proportions as those reflected in the\\nfinancial index they are tracking (such as the FTSE 100 index).\\nTrade creditors\\nThese are the organisations which are owed money for goods and services supplied.\\nTrade debtors\\nThese are the organisations which owe money for goods and services supplied.\\nTrading account\\nA trading account is the part of a  profit and loss account  which records money due from selling\\ngoods, less what those goods cost. This gives the  gross profit  on those goods.\\nTrading profit\\nThe trading profit is the profit from selling goods and services before taking off overheads. The\\ntrading profit less the overheads gives the  net profit.\\nTransferable securitiesPlain English Campaign: The A to Z of financial terms\\n43These are  securities , such as debentures , which can have their ownership changed.\\nTransferee\\nThis is the person something is transferred to.\\nTransferor\\nThis is the person who transfers something to someone else.\\nTreasury bill\\nThis is an unconditional written promise by the Treasury to repay money it has borrowed for the\\nshort term, to pay for the Government's spending.\\nTrue and fair view\\nWhen auditors examine an organisation's accounting records and  annual accounts  they have to\\ndecide whether the accounts present a fair and honest picture of the organisation's trading and\\nfinances. The  audit report  has to say whether the accounts show a true and fair view.\\nTrust\\nA trust is a financial arrangement under which property is held by named people for someone else.\\nTrust deed\\nThis is a legal document which is used to:\\ncreate a trust;♦ \\nchange a trust; or♦ \\ncontrol a trust.♦ • \\nTrust corporation\\nA company which acts as a trustee and holds the trust's assets is called a trust corporation.\\nTurnover\\nA business's turnover is the total value of its sales over a particular period.\\nUncleared cheque\\nThis is a cheque which has been paid into an account, but the payment for it has not yet been\\ncollected from the bank the cheque which will pay the cheque.\\nUnderwriting\\nWhen the public is invited to subscribe for (ask for) shares in a company the directors may ask anPlain English Campaign: The A to Z of financial terms\\n44investment firm, such as a bank, to agree to buy any unsold shares. This is called underwriting\\nthe issue of shares.\\nUnincorporated body\\nThis is a group of people acting together but who do not form a separate legal body (such as a\\ncompany).\\nUnit−linked\\nSome investment policies, such as  endowment policies, are used to invest in unit trusts. These\\nare called  unit−linked life assurance policies .\\nUnit trust\\nPeople can invest in unit trusts by buying units. The managers of the trust use the money people\\ninvest to buy investments. The fund manager values the fund's  assets from time to time and puts a\\nnew price on the fund's units.\\nUnitised\\nThis term describes investors joining together to buy units in a fund such as a unit trust.\\nUnitised with profit\\nPeople with this type of  with−profits policy  have a share of the  unit trust  fund their policy is\\ninvested in.\\nUnlimited company\\nThis type of company does not limit what its  members  would have to pay towards the company's\\ndebts, if the company was  wound up .\\nUnpaid item\\nThis is an item such as a  cheque, standing order  or direct debit  which a bank refuses to pay.\\nUnpresented cheque\\nThis is a cheque which has been sent, but which has not yet appeared on the bank account which\\nwill pay it.\\nUnsanctioned overdraft\\nThis is an  overdraft  which has been run up without the bank's permission.\\nUpper earnings limit\\nThis is the highest amount of earnings on which employees pay  national insurance .Plain English Campaign: The A to Z of financial terms\\n45Valuation point\\nThis is the date and time when the fund manager revalues the investments in a fund, such as a\\nunit trust.\\nValue added tax (VAT)\\nMost traders in the UK are registered for VAT. This means that registered traders have to charge\\ntheir customers value added tax on any goods and services they supply which are not  exempt.\\nThe VAT collected (less VAT they have been charged) is later paid to H M Customs and Excise.\\nWaiver of premium\\nIf a member of a scheme with this benefit becomes seriously ill or disabled and cannot pay their\\npremiums, the  insurance  company will pay the premium for them. This is called waiver of\\npremium.\\nWarrant\\nA warrant is a certificate which gives the person holding it the right to buy shares at a given price.\\nWhole−life assurance\\nThis is life assurance  cover which lasts the lifetime of the person whose life is assured.\\nWill\\nA will is a legal document which people use to  bequeath  (leave as a  gift) money and property\\nwhen they die.\\nWinding up\\nWinding up a company is done by paying the company's  creditors, and then distributing any\\nmoney left (if any) among the  members .\\nWith−profits policy\\nA policyholder with this type of  life insurance policy  shares in the surpluses of the  insurance\\ncompany's life insurance and pensions business.\\nZero−rated\\nThis means:\\nthat the rate of interest is 0%; or♦ \\nthat the VAT rate is 0%. (But it could be raised from this level, if the Government\\nwished to, without fresh legislation being needed.)♦ Plain English Campaign: The A to Z of financial terms\\n46Zero−rate does not mean the same as  exempt. If something is  exempt from tax, no tax can be\\ncharged on it, unless the law is changed.Plain English Campaign: The A to Z of financial terms\\n47\""
            ],
            "application/vnd.google.colaboratory.intrinsic+json": {
              "type": "string"
            }
          },
          "metadata": {},
          "execution_count": 10
        }
      ]
    },
    {
      "cell_type": "code",
      "source": [
        "# We need to split the text using Character Text Split such that it sshould not increse token size\n",
        "text_splitter = CharacterTextSplitter(\n",
        "    separator = \"\\n\",\n",
        "    chunk_size = 800,\n",
        "    chunk_overlap  = 200,\n",
        "    length_function = len,\n",
        ")\n",
        "texts = text_splitter.split_text(raw_text)"
      ],
      "metadata": {
        "id": "VP6ap_PSRt7s"
      },
      "execution_count": 11,
      "outputs": []
    },
    {
      "cell_type": "code",
      "source": [
        "len(texts)"
      ],
      "metadata": {
        "colab": {
          "base_uri": "https://localhost:8080/"
        },
        "id": "i9GLXwH1SVOe",
        "outputId": "2da00763-9e0e-4924-cc48-6980bcd90062"
      },
      "execution_count": 12,
      "outputs": [
        {
          "output_type": "execute_result",
          "data": {
            "text/plain": [
              "122"
            ]
          },
          "metadata": {},
          "execution_count": 12
        }
      ]
    },
    {
      "cell_type": "code",
      "source": [
        "# Download embeddings from OpenAI\n",
        "embeddings = OpenAIEmbeddings()"
      ],
      "metadata": {
        "id": "wqy4vJhrSXUT"
      },
      "execution_count": 19,
      "outputs": []
    },
    {
      "cell_type": "code",
      "source": [
        "document_search = FAISS.from_texts(texts, embeddings)"
      ],
      "metadata": {
        "id": "3igYiWjISjvS"
      },
      "execution_count": 20,
      "outputs": []
    },
    {
      "cell_type": "code",
      "source": [
        "document_search\n"
      ],
      "metadata": {
        "colab": {
          "base_uri": "https://localhost:8080/"
        },
        "id": "6bJpE1qlSlNb",
        "outputId": "86908149-aeed-4d85-8286-a4aaf76dc1ab"
      },
      "execution_count": 21,
      "outputs": [
        {
          "output_type": "execute_result",
          "data": {
            "text/plain": [
              "<langchain_community.vectorstores.faiss.FAISS at 0x7aa49d3db070>"
            ]
          },
          "metadata": {},
          "execution_count": 21
        }
      ]
    },
    {
      "cell_type": "code",
      "source": [
        "from langchain.chains.question_answering import load_qa_chain\n",
        "from langchain.llms import OpenAI"
      ],
      "metadata": {
        "id": "Po-ip1fPSonv"
      },
      "execution_count": 22,
      "outputs": []
    },
    {
      "cell_type": "code",
      "source": [
        "chain = load_qa_chain(OpenAI(), chain_type=\"stuff\")"
      ],
      "metadata": {
        "id": "iYl2PzKSSqg0",
        "colab": {
          "base_uri": "https://localhost:8080/"
        },
        "outputId": "a9cc8f50-2e8f-43a2-ae8c-5eaed8c50e89"
      },
      "execution_count": 23,
      "outputs": [
        {
          "output_type": "stream",
          "name": "stderr",
          "text": [
            "/usr/local/lib/python3.10/dist-packages/langchain_core/_api/deprecation.py:139: LangChainDeprecationWarning: The class `OpenAI` was deprecated in LangChain 0.0.10 and will be removed in 0.3.0. An updated version of the class exists in the langchain-openai package and should be used instead. To use it run `pip install -U langchain-openai` and import as `from langchain_openai import OpenAI`.\n",
            "  warn_deprecated(\n"
          ]
        }
      ]
    },
    {
      "cell_type": "code",
      "source": [
        "query = \"what is the document about?\"\n",
        "docs = document_search.similarity_search(query)\n",
        "chain.run(input_documents=docs, question=query)"
      ],
      "metadata": {
        "colab": {
          "base_uri": "https://localhost:8080/",
          "height": 107
        },
        "id": "GQafhpOz4IsV",
        "outputId": "3e10366c-61d9-4b68-9c0e-e58467c795c7"
      },
      "execution_count": 24,
      "outputs": [
        {
          "output_type": "stream",
          "name": "stderr",
          "text": [
            "/usr/local/lib/python3.10/dist-packages/langchain_core/_api/deprecation.py:139: LangChainDeprecationWarning: The method `Chain.run` was deprecated in langchain 0.1.0 and will be removed in 0.3.0. Use invoke instead.\n",
            "  warn_deprecated(\n"
          ]
        },
        {
          "output_type": "execute_result",
          "data": {
            "text/plain": [
              "\" The document is about a guide created by Plain English Campaign to help people understand financial, tax, and legal documents and encourage the use of language that is easy to understand. It also mentions the Campaign's impact on improving communication between government, business, and the public.\""
            ],
            "application/vnd.google.colaboratory.intrinsic+json": {
              "type": "string"
            }
          },
          "metadata": {},
          "execution_count": 24
        }
      ]
    },
    {
      "cell_type": "code",
      "source": [
        "query = \"What are some important terms in finance industry??\"\n",
        "docs = document_search.similarity_search(query)\n",
        "chain.run(input_documents=docs, question=query)"
      ],
      "metadata": {
        "colab": {
          "base_uri": "https://localhost:8080/",
          "height": 70
        },
        "id": "7sjc1Xh2SsTs",
        "outputId": "39fffad9-172b-465f-fc46-595ad0cef1fe"
      },
      "execution_count": 25,
      "outputs": [
        {
          "output_type": "execute_result",
          "data": {
            "text/plain": [
              "' Some important terms in the finance industry include interest-rate swap, interim dividend, intestacy, investment grade issuers, investment trust, ISA, issued share capital, financial statement, financial year, fiscal, fixed asset, fixed interest rate, floating charge, floating exchange rates, trade creditors, trade debtors, trading account, trading profit, transferable securities, transferee, facility, final dividend, and finance lease.'"
            ],
            "application/vnd.google.colaboratory.intrinsic+json": {
              "type": "string"
            }
          },
          "metadata": {},
          "execution_count": 25
        }
      ]
    },
    {
      "cell_type": "code",
      "source": [
        "query = \"can you tell me about taxation policy? and its need??\"\n",
        "docs = document_search.similarity_search(query)\n",
        "chain.run(input_documents=docs, question=query)"
      ],
      "metadata": {
        "id": "1Fo7RaEjjt9u",
        "colab": {
          "base_uri": "https://localhost:8080/",
          "height": 157
        },
        "outputId": "b2aadf9c-2f45-4dfe-e67b-791cb0782466"
      },
      "execution_count": 26,
      "outputs": [
        {
          "output_type": "execute_result",
          "data": {
            "text/plain": [
              "' Taxation policy refers to the principles and guidelines that a government follows in order to collect taxes from its citizens and businesses. These policies are designed to generate revenue for the government, fund public services and programs, and influence economic behavior.\\n\\nThe need for taxation policy arises from the fact that governments need a steady stream of income to fund their operations and provide essential services to citizens. This includes things like education, healthcare, infrastructure, and national defense. Without sufficient tax revenue, a government may struggle to meet these obligations and maintain a stable economy.\\n\\nTaxation policy also serves as a tool for government to influence economic behavior. By adjusting tax rates and implementing incentives or penalties, governments can encourage or discourage certain activities, such as investment, consumption, and saving. This can have a significant impact on the overall health and growth of the economy.\\n\\nOverall, taxation policy is essential for the functioning of a government and the economy. It allows for the collection of necessary revenue while also shaping economic behavior.'"
            ],
            "application/vnd.google.colaboratory.intrinsic+json": {
              "type": "string"
            }
          },
          "metadata": {},
          "execution_count": 26
        }
      ]
    },
    {
      "cell_type": "code",
      "source": [
        "query = \"so what are key market indicators? what is this PE ratio, debt-equity ration and all??\"\n",
        "docs = document_search.similarity_search(query)\n",
        "chain.run(input_documents=docs, question=query)"
      ],
      "metadata": {
        "colab": {
          "base_uri": "https://localhost:8080/",
          "height": 87
        },
        "id": "SckMyf92mf4z",
        "outputId": "eed62bc1-1404-4a23-f684-f4326c92df57"
      },
      "execution_count": 27,
      "outputs": [
        {
          "output_type": "execute_result",
          "data": {
            "text/plain": [
              "\" Key market indicators are financial measures used to track the performance of a specific market or industry. These indicators can include things like stock indices, interest rates, and economic data. The PE ratio, or price-to-earnings ratio, is a measure of a company's stock price relative to its earnings. The debt-equity ratio is a measure of a company's financial leverage, calculated by dividing its total debt by its total equity. These indicators can be used to evaluate the health and potential of a market or company.\""
            ],
            "application/vnd.google.colaboratory.intrinsic+json": {
              "type": "string"
            }
          },
          "metadata": {},
          "execution_count": 27
        }
      ]
    },
    {
      "cell_type": "code",
      "source": [
        "query = \"What is Bull Market??\"\n",
        "docs = document_search.similarity_search(query)\n",
        "chain.run(input_documents=docs, question=query)"
      ],
      "metadata": {
        "colab": {
          "base_uri": "https://localhost:8080/",
          "height": 53
        },
        "id": "K9ZzLu40mrqq",
        "outputId": "0cafc519-97bc-4aa8-ff2a-2664d830822c"
      },
      "execution_count": 28,
      "outputs": [
        {
          "output_type": "execute_result",
          "data": {
            "text/plain": [
              "' A bull market is a financial market in which prices are rising or are expected to rise. This often leads to investors buying shares in the hopes of selling them at a profit in the future.'"
            ],
            "application/vnd.google.colaboratory.intrinsic+json": {
              "type": "string"
            }
          },
          "metadata": {},
          "execution_count": 28
        }
      ]
    },
    {
      "cell_type": "code",
      "source": [],
      "metadata": {
        "id": "iLOvr6jeBB_Z"
      },
      "execution_count": null,
      "outputs": []
    }
  ]
}